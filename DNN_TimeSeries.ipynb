{
 "cells": [
  {
   "cell_type": "code",
   "execution_count": 1,
   "id": "initial_id",
   "metadata": {
    "ExecuteTime": {
     "end_time": "2023-10-31T08:00:13.525323384Z",
     "start_time": "2023-10-31T08:00:04.111756236Z"
    },
    "id": "initial_id"
   },
   "outputs": [],
   "source": [
    "import tensorflow as tf\n",
    "import numpy as np\n",
    "import matplotlib.pyplot as plt\n",
    "import pandas as pd\n"
   ]
  },
  {
   "cell_type": "code",
   "execution_count": 2,
   "id": "7972e30073a5b1e4",
   "metadata": {
    "ExecuteTime": {
     "end_time": "2023-10-31T08:00:15.061265201Z",
     "start_time": "2023-10-31T08:00:13.528505332Z"
    },
    "id": "7972e30073a5b1e4"
   },
   "outputs": [],
   "source": [
    "data = pd.read_csv(\"jena_climate_2009_2016.csv\")"
   ]
  },
  {
   "cell_type": "code",
   "execution_count": 3,
   "id": "b332d4250c969b21",
   "metadata": {
    "ExecuteTime": {
     "end_time": "2023-10-31T08:00:15.110867068Z",
     "start_time": "2023-10-31T08:00:15.070406574Z"
    },
    "colab": {
     "base_uri": "https://localhost:8080/",
     "height": 424
    },
    "id": "b332d4250c969b21",
    "outputId": "ff1dc651-1150-4703-fb83-762778848f40"
   },
   "outputs": [
    {
     "data": {
      "text/html": [
       "<div>\n",
       "<style scoped>\n",
       "    .dataframe tbody tr th:only-of-type {\n",
       "        vertical-align: middle;\n",
       "    }\n",
       "\n",
       "    .dataframe tbody tr th {\n",
       "        vertical-align: top;\n",
       "    }\n",
       "\n",
       "    .dataframe thead th {\n",
       "        text-align: right;\n",
       "    }\n",
       "</style>\n",
       "<table border=\"1\" class=\"dataframe\">\n",
       "  <thead>\n",
       "    <tr style=\"text-align: right;\">\n",
       "      <th></th>\n",
       "      <th>Date Time</th>\n",
       "      <th>p (mbar)</th>\n",
       "      <th>T (degC)</th>\n",
       "      <th>Tpot (K)</th>\n",
       "      <th>Tdew (degC)</th>\n",
       "      <th>rh (%)</th>\n",
       "      <th>VPmax (mbar)</th>\n",
       "      <th>VPact (mbar)</th>\n",
       "      <th>VPdef (mbar)</th>\n",
       "      <th>sh (g/kg)</th>\n",
       "      <th>H2OC (mmol/mol)</th>\n",
       "      <th>rho (g/m**3)</th>\n",
       "      <th>wv (m/s)</th>\n",
       "      <th>max. wv (m/s)</th>\n",
       "      <th>wd (deg)</th>\n",
       "    </tr>\n",
       "  </thead>\n",
       "  <tbody>\n",
       "    <tr>\n",
       "      <th>0</th>\n",
       "      <td>01.01.2009 00:10:00</td>\n",
       "      <td>996.52</td>\n",
       "      <td>-8.02</td>\n",
       "      <td>265.40</td>\n",
       "      <td>-8.90</td>\n",
       "      <td>93.30</td>\n",
       "      <td>3.33</td>\n",
       "      <td>3.11</td>\n",
       "      <td>0.22</td>\n",
       "      <td>1.94</td>\n",
       "      <td>3.12</td>\n",
       "      <td>1307.75</td>\n",
       "      <td>1.03</td>\n",
       "      <td>1.75</td>\n",
       "      <td>152.3</td>\n",
       "    </tr>\n",
       "    <tr>\n",
       "      <th>1</th>\n",
       "      <td>01.01.2009 00:20:00</td>\n",
       "      <td>996.57</td>\n",
       "      <td>-8.41</td>\n",
       "      <td>265.01</td>\n",
       "      <td>-9.28</td>\n",
       "      <td>93.40</td>\n",
       "      <td>3.23</td>\n",
       "      <td>3.02</td>\n",
       "      <td>0.21</td>\n",
       "      <td>1.89</td>\n",
       "      <td>3.03</td>\n",
       "      <td>1309.80</td>\n",
       "      <td>0.72</td>\n",
       "      <td>1.50</td>\n",
       "      <td>136.1</td>\n",
       "    </tr>\n",
       "    <tr>\n",
       "      <th>2</th>\n",
       "      <td>01.01.2009 00:30:00</td>\n",
       "      <td>996.53</td>\n",
       "      <td>-8.51</td>\n",
       "      <td>264.91</td>\n",
       "      <td>-9.31</td>\n",
       "      <td>93.90</td>\n",
       "      <td>3.21</td>\n",
       "      <td>3.01</td>\n",
       "      <td>0.20</td>\n",
       "      <td>1.88</td>\n",
       "      <td>3.02</td>\n",
       "      <td>1310.24</td>\n",
       "      <td>0.19</td>\n",
       "      <td>0.63</td>\n",
       "      <td>171.6</td>\n",
       "    </tr>\n",
       "    <tr>\n",
       "      <th>3</th>\n",
       "      <td>01.01.2009 00:40:00</td>\n",
       "      <td>996.51</td>\n",
       "      <td>-8.31</td>\n",
       "      <td>265.12</td>\n",
       "      <td>-9.07</td>\n",
       "      <td>94.20</td>\n",
       "      <td>3.26</td>\n",
       "      <td>3.07</td>\n",
       "      <td>0.19</td>\n",
       "      <td>1.92</td>\n",
       "      <td>3.08</td>\n",
       "      <td>1309.19</td>\n",
       "      <td>0.34</td>\n",
       "      <td>0.50</td>\n",
       "      <td>198.0</td>\n",
       "    </tr>\n",
       "    <tr>\n",
       "      <th>4</th>\n",
       "      <td>01.01.2009 00:50:00</td>\n",
       "      <td>996.51</td>\n",
       "      <td>-8.27</td>\n",
       "      <td>265.15</td>\n",
       "      <td>-9.04</td>\n",
       "      <td>94.10</td>\n",
       "      <td>3.27</td>\n",
       "      <td>3.08</td>\n",
       "      <td>0.19</td>\n",
       "      <td>1.92</td>\n",
       "      <td>3.09</td>\n",
       "      <td>1309.00</td>\n",
       "      <td>0.32</td>\n",
       "      <td>0.63</td>\n",
       "      <td>214.3</td>\n",
       "    </tr>\n",
       "    <tr>\n",
       "      <th>...</th>\n",
       "      <td>...</td>\n",
       "      <td>...</td>\n",
       "      <td>...</td>\n",
       "      <td>...</td>\n",
       "      <td>...</td>\n",
       "      <td>...</td>\n",
       "      <td>...</td>\n",
       "      <td>...</td>\n",
       "      <td>...</td>\n",
       "      <td>...</td>\n",
       "      <td>...</td>\n",
       "      <td>...</td>\n",
       "      <td>...</td>\n",
       "      <td>...</td>\n",
       "      <td>...</td>\n",
       "    </tr>\n",
       "    <tr>\n",
       "      <th>420446</th>\n",
       "      <td>31.12.2016 23:20:00</td>\n",
       "      <td>1000.07</td>\n",
       "      <td>-4.05</td>\n",
       "      <td>269.10</td>\n",
       "      <td>-8.13</td>\n",
       "      <td>73.10</td>\n",
       "      <td>4.52</td>\n",
       "      <td>3.30</td>\n",
       "      <td>1.22</td>\n",
       "      <td>2.06</td>\n",
       "      <td>3.30</td>\n",
       "      <td>1292.98</td>\n",
       "      <td>0.67</td>\n",
       "      <td>1.52</td>\n",
       "      <td>240.0</td>\n",
       "    </tr>\n",
       "    <tr>\n",
       "      <th>420447</th>\n",
       "      <td>31.12.2016 23:30:00</td>\n",
       "      <td>999.93</td>\n",
       "      <td>-3.35</td>\n",
       "      <td>269.81</td>\n",
       "      <td>-8.06</td>\n",
       "      <td>69.71</td>\n",
       "      <td>4.77</td>\n",
       "      <td>3.32</td>\n",
       "      <td>1.44</td>\n",
       "      <td>2.07</td>\n",
       "      <td>3.32</td>\n",
       "      <td>1289.44</td>\n",
       "      <td>1.14</td>\n",
       "      <td>1.92</td>\n",
       "      <td>234.3</td>\n",
       "    </tr>\n",
       "    <tr>\n",
       "      <th>420448</th>\n",
       "      <td>31.12.2016 23:40:00</td>\n",
       "      <td>999.82</td>\n",
       "      <td>-3.16</td>\n",
       "      <td>270.01</td>\n",
       "      <td>-8.21</td>\n",
       "      <td>67.91</td>\n",
       "      <td>4.84</td>\n",
       "      <td>3.28</td>\n",
       "      <td>1.55</td>\n",
       "      <td>2.05</td>\n",
       "      <td>3.28</td>\n",
       "      <td>1288.39</td>\n",
       "      <td>1.08</td>\n",
       "      <td>2.00</td>\n",
       "      <td>215.2</td>\n",
       "    </tr>\n",
       "    <tr>\n",
       "      <th>420449</th>\n",
       "      <td>31.12.2016 23:50:00</td>\n",
       "      <td>999.81</td>\n",
       "      <td>-4.23</td>\n",
       "      <td>268.94</td>\n",
       "      <td>-8.53</td>\n",
       "      <td>71.80</td>\n",
       "      <td>4.46</td>\n",
       "      <td>3.20</td>\n",
       "      <td>1.26</td>\n",
       "      <td>1.99</td>\n",
       "      <td>3.20</td>\n",
       "      <td>1293.56</td>\n",
       "      <td>1.49</td>\n",
       "      <td>2.16</td>\n",
       "      <td>225.8</td>\n",
       "    </tr>\n",
       "    <tr>\n",
       "      <th>420450</th>\n",
       "      <td>01.01.2017 00:00:00</td>\n",
       "      <td>999.82</td>\n",
       "      <td>-4.82</td>\n",
       "      <td>268.36</td>\n",
       "      <td>-8.42</td>\n",
       "      <td>75.70</td>\n",
       "      <td>4.27</td>\n",
       "      <td>3.23</td>\n",
       "      <td>1.04</td>\n",
       "      <td>2.01</td>\n",
       "      <td>3.23</td>\n",
       "      <td>1296.38</td>\n",
       "      <td>1.23</td>\n",
       "      <td>1.96</td>\n",
       "      <td>184.9</td>\n",
       "    </tr>\n",
       "  </tbody>\n",
       "</table>\n",
       "<p>420451 rows × 15 columns</p>\n",
       "</div>"
      ],
      "text/plain": [
       "                  Date Time  p (mbar)  T (degC)  Tpot (K)  Tdew (degC)  \\\n",
       "0       01.01.2009 00:10:00    996.52     -8.02    265.40        -8.90   \n",
       "1       01.01.2009 00:20:00    996.57     -8.41    265.01        -9.28   \n",
       "2       01.01.2009 00:30:00    996.53     -8.51    264.91        -9.31   \n",
       "3       01.01.2009 00:40:00    996.51     -8.31    265.12        -9.07   \n",
       "4       01.01.2009 00:50:00    996.51     -8.27    265.15        -9.04   \n",
       "...                     ...       ...       ...       ...          ...   \n",
       "420446  31.12.2016 23:20:00   1000.07     -4.05    269.10        -8.13   \n",
       "420447  31.12.2016 23:30:00    999.93     -3.35    269.81        -8.06   \n",
       "420448  31.12.2016 23:40:00    999.82     -3.16    270.01        -8.21   \n",
       "420449  31.12.2016 23:50:00    999.81     -4.23    268.94        -8.53   \n",
       "420450  01.01.2017 00:00:00    999.82     -4.82    268.36        -8.42   \n",
       "\n",
       "        rh (%)  VPmax (mbar)  VPact (mbar)  VPdef (mbar)  sh (g/kg)  \\\n",
       "0        93.30          3.33          3.11          0.22       1.94   \n",
       "1        93.40          3.23          3.02          0.21       1.89   \n",
       "2        93.90          3.21          3.01          0.20       1.88   \n",
       "3        94.20          3.26          3.07          0.19       1.92   \n",
       "4        94.10          3.27          3.08          0.19       1.92   \n",
       "...        ...           ...           ...           ...        ...   \n",
       "420446   73.10          4.52          3.30          1.22       2.06   \n",
       "420447   69.71          4.77          3.32          1.44       2.07   \n",
       "420448   67.91          4.84          3.28          1.55       2.05   \n",
       "420449   71.80          4.46          3.20          1.26       1.99   \n",
       "420450   75.70          4.27          3.23          1.04       2.01   \n",
       "\n",
       "        H2OC (mmol/mol)  rho (g/m**3)  wv (m/s)  max. wv (m/s)  wd (deg)  \n",
       "0                  3.12       1307.75      1.03           1.75     152.3  \n",
       "1                  3.03       1309.80      0.72           1.50     136.1  \n",
       "2                  3.02       1310.24      0.19           0.63     171.6  \n",
       "3                  3.08       1309.19      0.34           0.50     198.0  \n",
       "4                  3.09       1309.00      0.32           0.63     214.3  \n",
       "...                 ...           ...       ...            ...       ...  \n",
       "420446             3.30       1292.98      0.67           1.52     240.0  \n",
       "420447             3.32       1289.44      1.14           1.92     234.3  \n",
       "420448             3.28       1288.39      1.08           2.00     215.2  \n",
       "420449             3.20       1293.56      1.49           2.16     225.8  \n",
       "420450             3.23       1296.38      1.23           1.96     184.9  \n",
       "\n",
       "[420451 rows x 15 columns]"
      ]
     },
     "execution_count": 3,
     "metadata": {},
     "output_type": "execute_result"
    }
   ],
   "source": [
    "data"
   ]
  },
  {
   "cell_type": "code",
   "execution_count": 5,
   "id": "cbad2c4b9dc5b3bc",
   "metadata": {
    "ExecuteTime": {
     "end_time": "2023-10-31T08:00:15.184433076Z",
     "start_time": "2023-10-31T08:00:15.138373408Z"
    },
    "colab": {
     "base_uri": "https://localhost:8080/",
     "height": 424
    },
    "id": "cbad2c4b9dc5b3bc",
    "outputId": "d55efddd-d1de-4851-9a3b-b21ca915d608"
   },
   "outputs": [
    {
     "data": {
      "text/html": [
       "<div>\n",
       "<style scoped>\n",
       "    .dataframe tbody tr th:only-of-type {\n",
       "        vertical-align: middle;\n",
       "    }\n",
       "\n",
       "    .dataframe tbody tr th {\n",
       "        vertical-align: top;\n",
       "    }\n",
       "\n",
       "    .dataframe thead th {\n",
       "        text-align: right;\n",
       "    }\n",
       "</style>\n",
       "<table border=\"1\" class=\"dataframe\">\n",
       "  <thead>\n",
       "    <tr style=\"text-align: right;\">\n",
       "      <th></th>\n",
       "      <th>Date Time</th>\n",
       "      <th>T (degC)</th>\n",
       "      <th>Tdew (degC)</th>\n",
       "    </tr>\n",
       "  </thead>\n",
       "  <tbody>\n",
       "    <tr>\n",
       "      <th>0</th>\n",
       "      <td>01.01.2009 00:10:00</td>\n",
       "      <td>-8.02</td>\n",
       "      <td>-8.90</td>\n",
       "    </tr>\n",
       "    <tr>\n",
       "      <th>1</th>\n",
       "      <td>01.01.2009 00:20:00</td>\n",
       "      <td>-8.41</td>\n",
       "      <td>-9.28</td>\n",
       "    </tr>\n",
       "    <tr>\n",
       "      <th>2</th>\n",
       "      <td>01.01.2009 00:30:00</td>\n",
       "      <td>-8.51</td>\n",
       "      <td>-9.31</td>\n",
       "    </tr>\n",
       "    <tr>\n",
       "      <th>3</th>\n",
       "      <td>01.01.2009 00:40:00</td>\n",
       "      <td>-8.31</td>\n",
       "      <td>-9.07</td>\n",
       "    </tr>\n",
       "    <tr>\n",
       "      <th>4</th>\n",
       "      <td>01.01.2009 00:50:00</td>\n",
       "      <td>-8.27</td>\n",
       "      <td>-9.04</td>\n",
       "    </tr>\n",
       "    <tr>\n",
       "      <th>...</th>\n",
       "      <td>...</td>\n",
       "      <td>...</td>\n",
       "      <td>...</td>\n",
       "    </tr>\n",
       "    <tr>\n",
       "      <th>420446</th>\n",
       "      <td>31.12.2016 23:20:00</td>\n",
       "      <td>-4.05</td>\n",
       "      <td>-8.13</td>\n",
       "    </tr>\n",
       "    <tr>\n",
       "      <th>420447</th>\n",
       "      <td>31.12.2016 23:30:00</td>\n",
       "      <td>-3.35</td>\n",
       "      <td>-8.06</td>\n",
       "    </tr>\n",
       "    <tr>\n",
       "      <th>420448</th>\n",
       "      <td>31.12.2016 23:40:00</td>\n",
       "      <td>-3.16</td>\n",
       "      <td>-8.21</td>\n",
       "    </tr>\n",
       "    <tr>\n",
       "      <th>420449</th>\n",
       "      <td>31.12.2016 23:50:00</td>\n",
       "      <td>-4.23</td>\n",
       "      <td>-8.53</td>\n",
       "    </tr>\n",
       "    <tr>\n",
       "      <th>420450</th>\n",
       "      <td>01.01.2017 00:00:00</td>\n",
       "      <td>-4.82</td>\n",
       "      <td>-8.42</td>\n",
       "    </tr>\n",
       "  </tbody>\n",
       "</table>\n",
       "<p>420451 rows × 3 columns</p>\n",
       "</div>"
      ],
      "text/plain": [
       "                  Date Time  T (degC)  Tdew (degC)\n",
       "0       01.01.2009 00:10:00     -8.02        -8.90\n",
       "1       01.01.2009 00:20:00     -8.41        -9.28\n",
       "2       01.01.2009 00:30:00     -8.51        -9.31\n",
       "3       01.01.2009 00:40:00     -8.31        -9.07\n",
       "4       01.01.2009 00:50:00     -8.27        -9.04\n",
       "...                     ...       ...          ...\n",
       "420446  31.12.2016 23:20:00     -4.05        -8.13\n",
       "420447  31.12.2016 23:30:00     -3.35        -8.06\n",
       "420448  31.12.2016 23:40:00     -3.16        -8.21\n",
       "420449  31.12.2016 23:50:00     -4.23        -8.53\n",
       "420450  01.01.2017 00:00:00     -4.82        -8.42\n",
       "\n",
       "[420451 rows x 3 columns]"
      ]
     },
     "execution_count": 5,
     "metadata": {},
     "output_type": "execute_result"
    }
   ],
   "source": [
    "TempData = data[['Date Time', 'T (degC)', 'Tdew (degC)']]\n",
    "TempData"
   ]
  },
  {
   "cell_type": "code",
   "execution_count": 6,
   "id": "9dbb1418dd02d962",
   "metadata": {
    "ExecuteTime": {
     "end_time": "2023-10-31T08:00:17.381461134Z",
     "start_time": "2023-10-31T08:00:15.147919061Z"
    },
    "colab": {
     "base_uri": "https://localhost:8080/",
     "height": 451
    },
    "id": "9dbb1418dd02d962",
    "outputId": "e59c0c21-2d18-4f9f-9d4d-ac4e3cef89e3"
   },
   "outputs": [
    {
     "data": {
      "text/plain": [
       "<AxesSubplot: >"
      ]
     },
     "execution_count": 6,
     "metadata": {},
     "output_type": "execute_result"
    },
    {
     "data": {
      "image/png": "[encoded data removed]",
      "text/plain": [
       "<Figure size 640x480 with 1 Axes>"
      ]
     },
     "metadata": {},
     "output_type": "display_data"
    }
   ],
   "source": [
    "TempData.plot()"
   ]
  },
  {
   "cell_type": "code",
   "execution_count": 7,
   "id": "98bb009819d364f8",
   "metadata": {
    "ExecuteTime": {
     "end_time": "2023-10-31T08:00:17.384923921Z",
     "start_time": "2023-10-31T08:00:17.180620658Z"
    },
    "colab": {
     "base_uri": "https://localhost:8080/",
     "height": 638
    },
    "id": "98bb009819d364f8",
    "outputId": "90faf5a3-1360-4249-cdee-00929c884074"
   },
   "outputs": [
    {
     "name": "stderr",
     "output_type": "stream",
     "text": [
      "C:\\Users\\ZZ099Y820\\AppData\\Local\\Temp\\ipykernel_11804\\209256123.py:1: SettingWithCopyWarning: \n",
      "A value is trying to be set on a copy of a slice from a DataFrame.\n",
      "Try using .loc[row_indexer,col_indexer] = value instead\n",
      "\n",
      "See the caveats in the documentation: https://pandas.pydata.org/pandas-docs/stable/user_guide/indexing.html#returning-a-view-versus-a-copy\n",
      "  TempData['T (degC)'] = (TempData['T (degC)'] - TempData['T (degC)'].mean())/TempData['T (degC)'].std()\n",
      "C:\\Users\\ZZ099Y820\\AppData\\Local\\Temp\\ipykernel_11804\\209256123.py:2: SettingWithCopyWarning: \n",
      "A value is trying to be set on a copy of a slice from a DataFrame.\n",
      "Try using .loc[row_indexer,col_indexer] = value instead\n",
      "\n",
      "See the caveats in the documentation: https://pandas.pydata.org/pandas-docs/stable/user_guide/indexing.html#returning-a-view-versus-a-copy\n",
      "  TempData['Tdew (degC)'] = (TempData['Tdew (degC)'] - TempData['Tdew (degC)'].mean())/TempData['Tdew (degC)'].std()\n"
     ]
    },
    {
     "data": {
      "text/html": [
       "<div>\n",
       "<style scoped>\n",
       "    .dataframe tbody tr th:only-of-type {\n",
       "        vertical-align: middle;\n",
       "    }\n",
       "\n",
       "    .dataframe tbody tr th {\n",
       "        vertical-align: top;\n",
       "    }\n",
       "\n",
       "    .dataframe thead th {\n",
       "        text-align: right;\n",
       "    }\n",
       "</style>\n",
       "<table border=\"1\" class=\"dataframe\">\n",
       "  <thead>\n",
       "    <tr style=\"text-align: right;\">\n",
       "      <th></th>\n",
       "      <th>Date Time</th>\n",
       "      <th>T (degC)</th>\n",
       "      <th>Tdew (degC)</th>\n",
       "    </tr>\n",
       "  </thead>\n",
       "  <tbody>\n",
       "    <tr>\n",
       "      <th>0</th>\n",
       "      <td>01.01.2009 00:10:00</td>\n",
       "      <td>-2.073744</td>\n",
       "      <td>-2.058420</td>\n",
       "    </tr>\n",
       "    <tr>\n",
       "      <th>1</th>\n",
       "      <td>01.01.2009 00:20:00</td>\n",
       "      <td>-2.120042</td>\n",
       "      <td>-2.114880</td>\n",
       "    </tr>\n",
       "    <tr>\n",
       "      <th>2</th>\n",
       "      <td>01.01.2009 00:30:00</td>\n",
       "      <td>-2.131913</td>\n",
       "      <td>-2.119337</td>\n",
       "    </tr>\n",
       "    <tr>\n",
       "      <th>3</th>\n",
       "      <td>01.01.2009 00:40:00</td>\n",
       "      <td>-2.108171</td>\n",
       "      <td>-2.083678</td>\n",
       "    </tr>\n",
       "    <tr>\n",
       "      <th>4</th>\n",
       "      <td>01.01.2009 00:50:00</td>\n",
       "      <td>-2.103422</td>\n",
       "      <td>-2.079221</td>\n",
       "    </tr>\n",
       "    <tr>\n",
       "      <th>...</th>\n",
       "      <td>...</td>\n",
       "      <td>...</td>\n",
       "      <td>...</td>\n",
       "    </tr>\n",
       "    <tr>\n",
       "      <th>420446</th>\n",
       "      <td>31.12.2016 23:20:00</td>\n",
       "      <td>-1.602454</td>\n",
       "      <td>-1.944014</td>\n",
       "    </tr>\n",
       "    <tr>\n",
       "      <th>420447</th>\n",
       "      <td>31.12.2016 23:30:00</td>\n",
       "      <td>-1.519355</td>\n",
       "      <td>-1.933613</td>\n",
       "    </tr>\n",
       "    <tr>\n",
       "      <th>420448</th>\n",
       "      <td>31.12.2016 23:40:00</td>\n",
       "      <td>-1.496799</td>\n",
       "      <td>-1.955900</td>\n",
       "    </tr>\n",
       "    <tr>\n",
       "      <th>420449</th>\n",
       "      <td>31.12.2016 23:50:00</td>\n",
       "      <td>-1.623822</td>\n",
       "      <td>-2.003445</td>\n",
       "    </tr>\n",
       "    <tr>\n",
       "      <th>420450</th>\n",
       "      <td>01.01.2017 00:00:00</td>\n",
       "      <td>-1.693863</td>\n",
       "      <td>-1.987102</td>\n",
       "    </tr>\n",
       "  </tbody>\n",
       "</table>\n",
       "<p>420451 rows × 3 columns</p>\n",
       "</div>"
      ],
      "text/plain": [
       "                  Date Time  T (degC)  Tdew (degC)\n",
       "0       01.01.2009 00:10:00 -2.073744    -2.058420\n",
       "1       01.01.2009 00:20:00 -2.120042    -2.114880\n",
       "2       01.01.2009 00:30:00 -2.131913    -2.119337\n",
       "3       01.01.2009 00:40:00 -2.108171    -2.083678\n",
       "4       01.01.2009 00:50:00 -2.103422    -2.079221\n",
       "...                     ...       ...          ...\n",
       "420446  31.12.2016 23:20:00 -1.602454    -1.944014\n",
       "420447  31.12.2016 23:30:00 -1.519355    -1.933613\n",
       "420448  31.12.2016 23:40:00 -1.496799    -1.955900\n",
       "420449  31.12.2016 23:50:00 -1.623822    -2.003445\n",
       "420450  01.01.2017 00:00:00 -1.693863    -1.987102\n",
       "\n",
       "[420451 rows x 3 columns]"
      ]
     },
     "execution_count": 7,
     "metadata": {},
     "output_type": "execute_result"
    }
   ],
   "source": [
    "TempData['T (degC)'] = (TempData['T (degC)'] - TempData['T (degC)'].mean())/TempData['T (degC)'].std()\n",
    "TempData['Tdew (degC)'] = (TempData['Tdew (degC)'] - TempData['Tdew (degC)'].mean())/TempData['Tdew (degC)'].std()\n",
    "TempData"
   ]
  },
  {
   "cell_type": "code",
   "execution_count": 8,
   "id": "15b2bd9a8628288b",
   "metadata": {
    "ExecuteTime": {
     "end_time": "2023-10-31T08:00:19.220576156Z",
     "start_time": "2023-10-31T08:00:17.216284971Z"
    },
    "colab": {
     "base_uri": "https://localhost:8080/",
     "height": 448
    },
    "id": "15b2bd9a8628288b",
    "outputId": "7664d224-af88-4ddf-ad97-ea050bc58fd5"
   },
   "outputs": [
    {
     "data": {
      "text/plain": [
       "<AxesSubplot: >"
      ]
     },
     "execution_count": 8,
     "metadata": {},
     "output_type": "execute_result"
    },
    {
     "data": {
      "image/png": "[encoded data removed]",
      "text/plain": [
       "<Figure size 640x480 with 1 Axes>"
      ]
     },
     "metadata": {},
     "output_type": "display_data"
    }
   ],
   "source": [
    "TempData.plot()"
   ]
  },
  {
   "cell_type": "code",
   "execution_count": 9,
   "id": "1a87210f6a10f97",
   "metadata": {
    "ExecuteTime": {
     "end_time": "2023-10-31T08:00:19.456912786Z",
     "start_time": "2023-10-31T08:00:19.451880309Z"
    },
    "id": "1a87210f6a10f97"
   },
   "outputs": [],
   "source": [
    "data.drop('Date Time', inplace=True, axis=1)"
   ]
  },
  {
   "cell_type": "code",
   "execution_count": 10,
   "id": "fb005d22acdcef33",
   "metadata": {
    "ExecuteTime": {
     "end_time": "2023-10-31T08:00:19.505476301Z",
     "start_time": "2023-10-31T08:00:19.466308884Z"
    },
    "colab": {
     "base_uri": "https://localhost:8080/",
     "height": 424
    },
    "id": "fb005d22acdcef33",
    "outputId": "3c19bf5f-9159-454f-83c7-54ac4413c216"
   },
   "outputs": [
    {
     "data": {
      "text/html": [
       "<div>\n",
       "<style scoped>\n",
       "    .dataframe tbody tr th:only-of-type {\n",
       "        vertical-align: middle;\n",
       "    }\n",
       "\n",
       "    .dataframe tbody tr th {\n",
       "        vertical-align: top;\n",
       "    }\n",
       "\n",
       "    .dataframe thead th {\n",
       "        text-align: right;\n",
       "    }\n",
       "</style>\n",
       "<table border=\"1\" class=\"dataframe\">\n",
       "  <thead>\n",
       "    <tr style=\"text-align: right;\">\n",
       "      <th></th>\n",
       "      <th>p (mbar)</th>\n",
       "      <th>T (degC)</th>\n",
       "      <th>Tpot (K)</th>\n",
       "      <th>Tdew (degC)</th>\n",
       "      <th>rh (%)</th>\n",
       "      <th>VPmax (mbar)</th>\n",
       "      <th>VPact (mbar)</th>\n",
       "      <th>VPdef (mbar)</th>\n",
       "      <th>sh (g/kg)</th>\n",
       "      <th>H2OC (mmol/mol)</th>\n",
       "      <th>rho (g/m**3)</th>\n",
       "      <th>wv (m/s)</th>\n",
       "      <th>max. wv (m/s)</th>\n",
       "      <th>wd (deg)</th>\n",
       "    </tr>\n",
       "  </thead>\n",
       "  <tbody>\n",
       "    <tr>\n",
       "      <th>0</th>\n",
       "      <td>996.52</td>\n",
       "      <td>-8.02</td>\n",
       "      <td>265.40</td>\n",
       "      <td>-8.90</td>\n",
       "      <td>93.30</td>\n",
       "      <td>3.33</td>\n",
       "      <td>3.11</td>\n",
       "      <td>0.22</td>\n",
       "      <td>1.94</td>\n",
       "      <td>3.12</td>\n",
       "      <td>1307.75</td>\n",
       "      <td>1.03</td>\n",
       "      <td>1.75</td>\n",
       "      <td>152.3</td>\n",
       "    </tr>\n",
       "    <tr>\n",
       "      <th>1</th>\n",
       "      <td>996.57</td>\n",
       "      <td>-8.41</td>\n",
       "      <td>265.01</td>\n",
       "      <td>-9.28</td>\n",
       "      <td>93.40</td>\n",
       "      <td>3.23</td>\n",
       "      <td>3.02</td>\n",
       "      <td>0.21</td>\n",
       "      <td>1.89</td>\n",
       "      <td>3.03</td>\n",
       "      <td>1309.80</td>\n",
       "      <td>0.72</td>\n",
       "      <td>1.50</td>\n",
       "      <td>136.1</td>\n",
       "    </tr>\n",
       "    <tr>\n",
       "      <th>2</th>\n",
       "      <td>996.53</td>\n",
       "      <td>-8.51</td>\n",
       "      <td>264.91</td>\n",
       "      <td>-9.31</td>\n",
       "      <td>93.90</td>\n",
       "      <td>3.21</td>\n",
       "      <td>3.01</td>\n",
       "      <td>0.20</td>\n",
       "      <td>1.88</td>\n",
       "      <td>3.02</td>\n",
       "      <td>1310.24</td>\n",
       "      <td>0.19</td>\n",
       "      <td>0.63</td>\n",
       "      <td>171.6</td>\n",
       "    </tr>\n",
       "    <tr>\n",
       "      <th>3</th>\n",
       "      <td>996.51</td>\n",
       "      <td>-8.31</td>\n",
       "      <td>265.12</td>\n",
       "      <td>-9.07</td>\n",
       "      <td>94.20</td>\n",
       "      <td>3.26</td>\n",
       "      <td>3.07</td>\n",
       "      <td>0.19</td>\n",
       "      <td>1.92</td>\n",
       "      <td>3.08</td>\n",
       "      <td>1309.19</td>\n",
       "      <td>0.34</td>\n",
       "      <td>0.50</td>\n",
       "      <td>198.0</td>\n",
       "    </tr>\n",
       "    <tr>\n",
       "      <th>4</th>\n",
       "      <td>996.51</td>\n",
       "      <td>-8.27</td>\n",
       "      <td>265.15</td>\n",
       "      <td>-9.04</td>\n",
       "      <td>94.10</td>\n",
       "      <td>3.27</td>\n",
       "      <td>3.08</td>\n",
       "      <td>0.19</td>\n",
       "      <td>1.92</td>\n",
       "      <td>3.09</td>\n",
       "      <td>1309.00</td>\n",
       "      <td>0.32</td>\n",
       "      <td>0.63</td>\n",
       "      <td>214.3</td>\n",
       "    </tr>\n",
       "    <tr>\n",
       "      <th>...</th>\n",
       "      <td>...</td>\n",
       "      <td>...</td>\n",
       "      <td>...</td>\n",
       "      <td>...</td>\n",
       "      <td>...</td>\n",
       "      <td>...</td>\n",
       "      <td>...</td>\n",
       "      <td>...</td>\n",
       "      <td>...</td>\n",
       "      <td>...</td>\n",
       "      <td>...</td>\n",
       "      <td>...</td>\n",
       "      <td>...</td>\n",
       "      <td>...</td>\n",
       "    </tr>\n",
       "    <tr>\n",
       "      <th>420446</th>\n",
       "      <td>1000.07</td>\n",
       "      <td>-4.05</td>\n",
       "      <td>269.10</td>\n",
       "      <td>-8.13</td>\n",
       "      <td>73.10</td>\n",
       "      <td>4.52</td>\n",
       "      <td>3.30</td>\n",
       "      <td>1.22</td>\n",
       "      <td>2.06</td>\n",
       "      <td>3.30</td>\n",
       "      <td>1292.98</td>\n",
       "      <td>0.67</td>\n",
       "      <td>1.52</td>\n",
       "      <td>240.0</td>\n",
       "    </tr>\n",
       "    <tr>\n",
       "      <th>420447</th>\n",
       "      <td>999.93</td>\n",
       "      <td>-3.35</td>\n",
       "      <td>269.81</td>\n",
       "      <td>-8.06</td>\n",
       "      <td>69.71</td>\n",
       "      <td>4.77</td>\n",
       "      <td>3.32</td>\n",
       "      <td>1.44</td>\n",
       "      <td>2.07</td>\n",
       "      <td>3.32</td>\n",
       "      <td>1289.44</td>\n",
       "      <td>1.14</td>\n",
       "      <td>1.92</td>\n",
       "      <td>234.3</td>\n",
       "    </tr>\n",
       "    <tr>\n",
       "      <th>420448</th>\n",
       "      <td>999.82</td>\n",
       "      <td>-3.16</td>\n",
       "      <td>270.01</td>\n",
       "      <td>-8.21</td>\n",
       "      <td>67.91</td>\n",
       "      <td>4.84</td>\n",
       "      <td>3.28</td>\n",
       "      <td>1.55</td>\n",
       "      <td>2.05</td>\n",
       "      <td>3.28</td>\n",
       "      <td>1288.39</td>\n",
       "      <td>1.08</td>\n",
       "      <td>2.00</td>\n",
       "      <td>215.2</td>\n",
       "    </tr>\n",
       "    <tr>\n",
       "      <th>420449</th>\n",
       "      <td>999.81</td>\n",
       "      <td>-4.23</td>\n",
       "      <td>268.94</td>\n",
       "      <td>-8.53</td>\n",
       "      <td>71.80</td>\n",
       "      <td>4.46</td>\n",
       "      <td>3.20</td>\n",
       "      <td>1.26</td>\n",
       "      <td>1.99</td>\n",
       "      <td>3.20</td>\n",
       "      <td>1293.56</td>\n",
       "      <td>1.49</td>\n",
       "      <td>2.16</td>\n",
       "      <td>225.8</td>\n",
       "    </tr>\n",
       "    <tr>\n",
       "      <th>420450</th>\n",
       "      <td>999.82</td>\n",
       "      <td>-4.82</td>\n",
       "      <td>268.36</td>\n",
       "      <td>-8.42</td>\n",
       "      <td>75.70</td>\n",
       "      <td>4.27</td>\n",
       "      <td>3.23</td>\n",
       "      <td>1.04</td>\n",
       "      <td>2.01</td>\n",
       "      <td>3.23</td>\n",
       "      <td>1296.38</td>\n",
       "      <td>1.23</td>\n",
       "      <td>1.96</td>\n",
       "      <td>184.9</td>\n",
       "    </tr>\n",
       "  </tbody>\n",
       "</table>\n",
       "<p>420451 rows × 14 columns</p>\n",
       "</div>"
      ],
      "text/plain": [
       "        p (mbar)  T (degC)  Tpot (K)  Tdew (degC)  rh (%)  VPmax (mbar)  \\\n",
       "0         996.52     -8.02    265.40        -8.90   93.30          3.33   \n",
       "1         996.57     -8.41    265.01        -9.28   93.40          3.23   \n",
       "2         996.53     -8.51    264.91        -9.31   93.90          3.21   \n",
       "3         996.51     -8.31    265.12        -9.07   94.20          3.26   \n",
       "4         996.51     -8.27    265.15        -9.04   94.10          3.27   \n",
       "...          ...       ...       ...          ...     ...           ...   \n",
       "420446   1000.07     -4.05    269.10        -8.13   73.10          4.52   \n",
       "420447    999.93     -3.35    269.81        -8.06   69.71          4.77   \n",
       "420448    999.82     -3.16    270.01        -8.21   67.91          4.84   \n",
       "420449    999.81     -4.23    268.94        -8.53   71.80          4.46   \n",
       "420450    999.82     -4.82    268.36        -8.42   75.70          4.27   \n",
       "\n",
       "        VPact (mbar)  VPdef (mbar)  sh (g/kg)  H2OC (mmol/mol)  rho (g/m**3)  \\\n",
       "0               3.11          0.22       1.94             3.12       1307.75   \n",
       "1               3.02          0.21       1.89             3.03       1309.80   \n",
       "2               3.01          0.20       1.88             3.02       1310.24   \n",
       "3               3.07          0.19       1.92             3.08       1309.19   \n",
       "4               3.08          0.19       1.92             3.09       1309.00   \n",
       "...              ...           ...        ...              ...           ...   \n",
       "420446          3.30          1.22       2.06             3.30       1292.98   \n",
       "420447          3.32          1.44       2.07             3.32       1289.44   \n",
       "420448          3.28          1.55       2.05             3.28       1288.39   \n",
       "420449          3.20          1.26       1.99             3.20       1293.56   \n",
       "420450          3.23          1.04       2.01             3.23       1296.38   \n",
       "\n",
       "        wv (m/s)  max. wv (m/s)  wd (deg)  \n",
       "0           1.03           1.75     152.3  \n",
       "1           0.72           1.50     136.1  \n",
       "2           0.19           0.63     171.6  \n",
       "3           0.34           0.50     198.0  \n",
       "4           0.32           0.63     214.3  \n",
       "...          ...            ...       ...  \n",
       "420446      0.67           1.52     240.0  \n",
       "420447      1.14           1.92     234.3  \n",
       "420448      1.08           2.00     215.2  \n",
       "420449      1.49           2.16     225.8  \n",
       "420450      1.23           1.96     184.9  \n",
       "\n",
       "[420451 rows x 14 columns]"
      ]
     },
     "execution_count": 10,
     "metadata": {},
     "output_type": "execute_result"
    }
   ],
   "source": [
    "data"
   ]
  },
  {
   "cell_type": "code",
   "execution_count": 11,
   "id": "d33c128bf31262a8",
   "metadata": {
    "ExecuteTime": {
     "end_time": "2023-10-31T08:00:19.785292974Z",
     "start_time": "2023-10-31T08:00:19.492516816Z"
    },
    "colab": {
     "base_uri": "https://localhost:8080/",
     "height": 424
    },
    "id": "d33c128bf31262a8",
    "outputId": "3624d873-3cf5-4c56-80db-454ff679731d"
   },
   "outputs": [
    {
     "data": {
      "text/html": [
       "<div>\n",
       "<style scoped>\n",
       "    .dataframe tbody tr th:only-of-type {\n",
       "        vertical-align: middle;\n",
       "    }\n",
       "\n",
       "    .dataframe tbody tr th {\n",
       "        vertical-align: top;\n",
       "    }\n",
       "\n",
       "    .dataframe thead th {\n",
       "        text-align: right;\n",
       "    }\n",
       "</style>\n",
       "<table border=\"1\" class=\"dataframe\">\n",
       "  <thead>\n",
       "    <tr style=\"text-align: right;\">\n",
       "      <th></th>\n",
       "      <th>p (mbar)</th>\n",
       "      <th>T (degC)</th>\n",
       "      <th>Tpot (K)</th>\n",
       "      <th>Tdew (degC)</th>\n",
       "      <th>rh (%)</th>\n",
       "      <th>VPmax (mbar)</th>\n",
       "      <th>VPact (mbar)</th>\n",
       "      <th>VPdef (mbar)</th>\n",
       "      <th>sh (g/kg)</th>\n",
       "      <th>H2OC (mmol/mol)</th>\n",
       "      <th>rho (g/m**3)</th>\n",
       "      <th>wv (m/s)</th>\n",
       "      <th>max. wv (m/s)</th>\n",
       "      <th>wd (deg)</th>\n",
       "    </tr>\n",
       "  </thead>\n",
       "  <tbody>\n",
       "    <tr>\n",
       "      <th>0</th>\n",
       "      <td>0.874159</td>\n",
       "      <td>-2.073744</td>\n",
       "      <td>-2.127168</td>\n",
       "      <td>-2.058420</td>\n",
       "      <td>1.049513</td>\n",
       "      <td>-1.323744</td>\n",
       "      <td>-1.535058</td>\n",
       "      <td>-0.780533</td>\n",
       "      <td>-1.536774</td>\n",
       "      <td>-1.539264</td>\n",
       "      <td>2.293318</td>\n",
       "      <td>-0.713638</td>\n",
       "      <td>-0.761544</td>\n",
       "      <td>-0.258736</td>\n",
       "    </tr>\n",
       "    <tr>\n",
       "      <th>1</th>\n",
       "      <td>0.880140</td>\n",
       "      <td>-2.120042</td>\n",
       "      <td>-2.173024</td>\n",
       "      <td>-2.114880</td>\n",
       "      <td>1.055582</td>\n",
       "      <td>-1.336664</td>\n",
       "      <td>-1.556569</td>\n",
       "      <td>-0.782575</td>\n",
       "      <td>-1.555599</td>\n",
       "      <td>-1.560514</td>\n",
       "      <td>2.344597</td>\n",
       "      <td>-0.914698</td>\n",
       "      <td>-0.868360</td>\n",
       "      <td>-0.445639</td>\n",
       "    </tr>\n",
       "    <tr>\n",
       "      <th>2</th>\n",
       "      <td>0.875355</td>\n",
       "      <td>-2.131913</td>\n",
       "      <td>-2.184782</td>\n",
       "      <td>-2.119337</td>\n",
       "      <td>1.085927</td>\n",
       "      <td>-1.339249</td>\n",
       "      <td>-1.558960</td>\n",
       "      <td>-0.784617</td>\n",
       "      <td>-1.559364</td>\n",
       "      <td>-1.562876</td>\n",
       "      <td>2.355604</td>\n",
       "      <td>-1.258446</td>\n",
       "      <td>-1.240078</td>\n",
       "      <td>-0.036067</td>\n",
       "    </tr>\n",
       "    <tr>\n",
       "      <th>3</th>\n",
       "      <td>0.872963</td>\n",
       "      <td>-2.108171</td>\n",
       "      <td>-2.160091</td>\n",
       "      <td>-2.083678</td>\n",
       "      <td>1.104134</td>\n",
       "      <td>-1.332788</td>\n",
       "      <td>-1.544619</td>\n",
       "      <td>-0.786659</td>\n",
       "      <td>-1.544304</td>\n",
       "      <td>-1.548708</td>\n",
       "      <td>2.329339</td>\n",
       "      <td>-1.161159</td>\n",
       "      <td>-1.295622</td>\n",
       "      <td>0.268515</td>\n",
       "    </tr>\n",
       "    <tr>\n",
       "      <th>4</th>\n",
       "      <td>0.872963</td>\n",
       "      <td>-2.103422</td>\n",
       "      <td>-2.156563</td>\n",
       "      <td>-2.079221</td>\n",
       "      <td>1.098065</td>\n",
       "      <td>-1.331496</td>\n",
       "      <td>-1.542229</td>\n",
       "      <td>-0.786659</td>\n",
       "      <td>-1.544304</td>\n",
       "      <td>-1.546347</td>\n",
       "      <td>2.324586</td>\n",
       "      <td>-1.174130</td>\n",
       "      <td>-1.240078</td>\n",
       "      <td>0.456572</td>\n",
       "    </tr>\n",
       "    <tr>\n",
       "      <th>...</th>\n",
       "      <td>...</td>\n",
       "      <td>...</td>\n",
       "      <td>...</td>\n",
       "      <td>...</td>\n",
       "      <td>...</td>\n",
       "      <td>...</td>\n",
       "      <td>...</td>\n",
       "      <td>...</td>\n",
       "      <td>...</td>\n",
       "      <td>...</td>\n",
       "      <td>...</td>\n",
       "      <td>...</td>\n",
       "      <td>...</td>\n",
       "      <td>...</td>\n",
       "    </tr>\n",
       "    <tr>\n",
       "      <th>420446</th>\n",
       "      <td>1.298828</td>\n",
       "      <td>-1.602454</td>\n",
       "      <td>-1.692121</td>\n",
       "      <td>-1.944014</td>\n",
       "      <td>-0.176429</td>\n",
       "      <td>-1.169987</td>\n",
       "      <td>-1.489646</td>\n",
       "      <td>-0.576338</td>\n",
       "      <td>-1.491593</td>\n",
       "      <td>-1.496762</td>\n",
       "      <td>1.923856</td>\n",
       "      <td>-0.947127</td>\n",
       "      <td>-0.859815</td>\n",
       "      <td>0.753079</td>\n",
       "    </tr>\n",
       "    <tr>\n",
       "      <th>420447</th>\n",
       "      <td>1.282080</td>\n",
       "      <td>-1.519355</td>\n",
       "      <td>-1.608639</td>\n",
       "      <td>-1.933613</td>\n",
       "      <td>-0.382169</td>\n",
       "      <td>-1.137685</td>\n",
       "      <td>-1.484866</td>\n",
       "      <td>-0.531415</td>\n",
       "      <td>-1.487827</td>\n",
       "      <td>-1.492040</td>\n",
       "      <td>1.835305</td>\n",
       "      <td>-0.642295</td>\n",
       "      <td>-0.688910</td>\n",
       "      <td>0.687317</td>\n",
       "    </tr>\n",
       "    <tr>\n",
       "      <th>420448</th>\n",
       "      <td>1.268922</td>\n",
       "      <td>-1.496799</td>\n",
       "      <td>-1.585122</td>\n",
       "      <td>-1.955900</td>\n",
       "      <td>-0.491411</td>\n",
       "      <td>-1.128640</td>\n",
       "      <td>-1.494426</td>\n",
       "      <td>-0.508953</td>\n",
       "      <td>-1.495358</td>\n",
       "      <td>-1.501484</td>\n",
       "      <td>1.809040</td>\n",
       "      <td>-0.681209</td>\n",
       "      <td>-0.654729</td>\n",
       "      <td>0.466956</td>\n",
       "    </tr>\n",
       "    <tr>\n",
       "      <th>420449</th>\n",
       "      <td>1.267725</td>\n",
       "      <td>-1.623822</td>\n",
       "      <td>-1.710933</td>\n",
       "      <td>-2.003445</td>\n",
       "      <td>-0.255326</td>\n",
       "      <td>-1.177739</td>\n",
       "      <td>-1.513547</td>\n",
       "      <td>-0.568170</td>\n",
       "      <td>-1.517948</td>\n",
       "      <td>-1.520374</td>\n",
       "      <td>1.938364</td>\n",
       "      <td>-0.415292</td>\n",
       "      <td>-0.586367</td>\n",
       "      <td>0.589250</td>\n",
       "    </tr>\n",
       "    <tr>\n",
       "      <th>420450</th>\n",
       "      <td>1.268922</td>\n",
       "      <td>-1.693863</td>\n",
       "      <td>-1.779130</td>\n",
       "      <td>-1.987102</td>\n",
       "      <td>-0.018635</td>\n",
       "      <td>-1.202288</td>\n",
       "      <td>-1.506377</td>\n",
       "      <td>-0.613093</td>\n",
       "      <td>-1.510418</td>\n",
       "      <td>-1.513290</td>\n",
       "      <td>2.008905</td>\n",
       "      <td>-0.583922</td>\n",
       "      <td>-0.671819</td>\n",
       "      <td>0.117378</td>\n",
       "    </tr>\n",
       "  </tbody>\n",
       "</table>\n",
       "<p>420451 rows × 14 columns</p>\n",
       "</div>"
      ],
      "text/plain": [
       "        p (mbar)  T (degC)  Tpot (K)  Tdew (degC)    rh (%)  VPmax (mbar)  \\\n",
       "0       0.874159 -2.073744 -2.127168    -2.058420  1.049513     -1.323744   \n",
       "1       0.880140 -2.120042 -2.173024    -2.114880  1.055582     -1.336664   \n",
       "2       0.875355 -2.131913 -2.184782    -2.119337  1.085927     -1.339249   \n",
       "3       0.872963 -2.108171 -2.160091    -2.083678  1.104134     -1.332788   \n",
       "4       0.872963 -2.103422 -2.156563    -2.079221  1.098065     -1.331496   \n",
       "...          ...       ...       ...          ...       ...           ...   \n",
       "420446  1.298828 -1.602454 -1.692121    -1.944014 -0.176429     -1.169987   \n",
       "420447  1.282080 -1.519355 -1.608639    -1.933613 -0.382169     -1.137685   \n",
       "420448  1.268922 -1.496799 -1.585122    -1.955900 -0.491411     -1.128640   \n",
       "420449  1.267725 -1.623822 -1.710933    -2.003445 -0.255326     -1.177739   \n",
       "420450  1.268922 -1.693863 -1.779130    -1.987102 -0.018635     -1.202288   \n",
       "\n",
       "        VPact (mbar)  VPdef (mbar)  sh (g/kg)  H2OC (mmol/mol)  rho (g/m**3)  \\\n",
       "0          -1.535058     -0.780533  -1.536774        -1.539264      2.293318   \n",
       "1          -1.556569     -0.782575  -1.555599        -1.560514      2.344597   \n",
       "2          -1.558960     -0.784617  -1.559364        -1.562876      2.355604   \n",
       "3          -1.544619     -0.786659  -1.544304        -1.548708      2.329339   \n",
       "4          -1.542229     -0.786659  -1.544304        -1.546347      2.324586   \n",
       "...              ...           ...        ...              ...           ...   \n",
       "420446     -1.489646     -0.576338  -1.491593        -1.496762      1.923856   \n",
       "420447     -1.484866     -0.531415  -1.487827        -1.492040      1.835305   \n",
       "420448     -1.494426     -0.508953  -1.495358        -1.501484      1.809040   \n",
       "420449     -1.513547     -0.568170  -1.517948        -1.520374      1.938364   \n",
       "420450     -1.506377     -0.613093  -1.510418        -1.513290      2.008905   \n",
       "\n",
       "        wv (m/s)  max. wv (m/s)  wd (deg)  \n",
       "0      -0.713638      -0.761544 -0.258736  \n",
       "1      -0.914698      -0.868360 -0.445639  \n",
       "2      -1.258446      -1.240078 -0.036067  \n",
       "3      -1.161159      -1.295622  0.268515  \n",
       "4      -1.174130      -1.240078  0.456572  \n",
       "...          ...            ...       ...  \n",
       "420446 -0.947127      -0.859815  0.753079  \n",
       "420447 -0.642295      -0.688910  0.687317  \n",
       "420448 -0.681209      -0.654729  0.466956  \n",
       "420449 -0.415292      -0.586367  0.589250  \n",
       "420450 -0.583922      -0.671819  0.117378  \n",
       "\n",
       "[420451 rows x 14 columns]"
      ]
     },
     "execution_count": 11,
     "metadata": {},
     "output_type": "execute_result"
    }
   ],
   "source": [
    "for col in data:\n",
    "    data[col] = (data[col] - data[col].mean())/data[col].std()\n",
    "data"
   ]
  },
  {
   "cell_type": "code",
   "execution_count": 12,
   "id": "7c229e70cf9ad273",
   "metadata": {
    "ExecuteTime": {
     "end_time": "2023-10-31T08:00:19.824920576Z",
     "start_time": "2023-10-31T08:00:19.715340734Z"
    },
    "id": "7c229e70cf9ad273"
   },
   "outputs": [],
   "source": [
    "def generator(data, lookback, delay, min_index, max_index, shuffle=False, batch_size=128, step=6):\n",
    "    data = data.to_numpy()\n",
    "    if max_index is None:\n",
    "        max_index = len(data) - delay - 1\n",
    "    i = min_index + lookback\n",
    "    while 1:\n",
    "        if shuffle:\n",
    "            rows = np.random.randint(min_index + lookback, max_index, size=batch_size)\n",
    "        else:\n",
    "            if i + batch_size >= max_index:\n",
    "                i = min_index + lookback\n",
    "            rows = np.arange(i, min(i + batch_size, max_index))\n",
    "            i += len(rows)\n",
    "\n",
    "        samples = np.zeros((len(rows), lookback // step, data.shape[-1]))\n",
    "        targets = np.zeros((len(rows),))\n",
    "        for j, row in enumerate(rows):\n",
    "            indices = range(rows[j] - lookback, rows[j], step)\n",
    "            samples[j] = data[indices]\n",
    "            targets[j] = data[rows[j] + delay][1]\n",
    "            yield samples, targets"
   ]
  },
  {
   "cell_type": "code",
   "execution_count": 13,
   "id": "a44fe5c321b91aed",
   "metadata": {
    "ExecuteTime": {
     "end_time": "2023-10-31T08:00:19.826164944Z",
     "start_time": "2023-10-31T08:00:19.731833159Z"
    },
    "id": "a44fe5c321b91aed"
   },
   "outputs": [],
   "source": [
    "lookback = 720\n",
    "step = 6\n",
    "delay = 144\n",
    "batch_size = 128"
   ]
  },
  {
   "cell_type": "code",
   "execution_count": 14,
   "id": "aa00d3b73f1be484",
   "metadata": {
    "ExecuteTime": {
     "end_time": "2023-10-31T08:00:19.826960623Z",
     "start_time": "2023-10-31T08:00:19.773621715Z"
    },
    "id": "aa00d3b73f1be484"
   },
   "outputs": [],
   "source": [
    "train_gen = generator(data, lookback=lookback, delay=delay, min_index=0, max_index=200000, shuffle=True, step=step, batch_size=batch_size)"
   ]
  },
  {
   "cell_type": "code",
   "execution_count": 15,
   "id": "12d222e1f7fc0c51",
   "metadata": {
    "ExecuteTime": {
     "end_time": "2023-10-31T08:00:19.827501574Z",
     "start_time": "2023-10-31T08:00:19.774182020Z"
    },
    "id": "12d222e1f7fc0c51"
   },
   "outputs": [],
   "source": [
    "val_gen = generator(data, lookback=lookback, delay=delay, min_index=200000, max_index=300000, shuffle=False, step=step, batch_size=batch_size)"
   ]
  },
  {
   "cell_type": "code",
   "execution_count": 16,
   "id": "b5f3f1b3a4423feb",
   "metadata": {
    "ExecuteTime": {
     "end_time": "2023-10-31T08:00:19.827973660Z",
     "start_time": "2023-10-31T08:00:19.775086489Z"
    },
    "id": "b5f3f1b3a4423feb"
   },
   "outputs": [],
   "source": [
    "test_gen = generator(data, lookback=lookback, delay=delay, min_index=300000, max_index=400000, shuffle=False, step=step, batch_size=batch_size)"
   ]
  },
  {
   "cell_type": "code",
   "execution_count": 17,
   "id": "a4fc2dd840655d62",
   "metadata": {
    "ExecuteTime": {
     "end_time": "2023-10-31T08:00:20.282598187Z",
     "start_time": "2023-10-31T08:00:19.775552146Z"
    },
    "id": "a4fc2dd840655d62"
   },
   "outputs": [],
   "source": [
    "model = tf.keras.models.Sequential()\n",
    "model.add(tf.keras.layers.Flatten(input_shape=(lookback // step, data.shape[-1])))\n",
    "model.add(tf.keras.layers.Dense(32, activation='relu'))\n",
    "model.add(tf.keras.layers.Dense(1))\n",
    "\n",
    "model.compile(optimizer=tf.keras.optimizers.RMSprop(), loss='mae')"
   ]
  },
  {
   "cell_type": "code",
   "execution_count": 18,
   "id": "f936830a82d435fd",
   "metadata": {
    "ExecuteTime": {
     "end_time": "2023-10-31T08:00:20.364021614Z",
     "start_time": "2023-10-31T08:00:20.289196893Z"
    },
    "id": "f936830a82d435fd"
   },
   "outputs": [],
   "source": [
    "val_steps = (300000-200001-lookback)//batch_size\n",
    "steps_per_epoch = 3*val_steps"
   ]
  },
  {
   "cell_type": "code",
   "execution_count": null,
   "id": "s8a2ukBmgH9M",
   "metadata": {
    "id": "s8a2ukBmgH9M"
   },
   "outputs": [],
   "source": []
  },
  {
   "cell_type": "code",
   "execution_count": 19,
   "id": "47f09559036c2d05",
   "metadata": {
    "ExecuteTime": {
     "end_time": "2023-10-31T08:01:28.929052584Z",
     "start_time": "2023-10-31T08:00:20.333083609Z"
    },
    "colab": {
     "base_uri": "https://localhost:8080/"
    },
    "id": "47f09559036c2d05",
    "outputId": "ebb97ecd-a875-4bfa-efaa-52727f02305d"
   },
   "outputs": [
    {
     "name": "stdout",
     "output_type": "stream",
     "text": [
      "Epoch 1/20\n",
      "2322/2325 [============================>.] - ETA: 0s - loss: 0.1360INFO:tensorflow:Assets written to: .\\assets\n",
      "2325/2325 [==============================] - 17s 6ms/step - loss: 0.1359 - val_loss: 0.3160\n",
      "Epoch 2/20\n",
      "2314/2325 [============================>.] - ETA: 0s - loss: 0.0773INFO:tensorflow:Assets written to: .\\assets\n",
      "2325/2325 [==============================] - 13s 6ms/step - loss: 0.0771 - val_loss: 0.2554\n",
      "Epoch 3/20\n",
      "2322/2325 [============================>.] - ETA: 0s - loss: 0.0720INFO:tensorflow:Assets written to: .\\assets\n",
      "2325/2325 [==============================] - 13s 5ms/step - loss: 0.0720 - val_loss: 0.1486\n",
      "Epoch 4/20\n",
      "2325/2325 [==============================] - ETA: 0s - loss: 0.0737INFO:tensorflow:Assets written to: .\\assets\n",
      "2325/2325 [==============================] - 13s 5ms/step - loss: 0.0737 - val_loss: 0.2320\n",
      "Epoch 5/20\n",
      "2323/2325 [============================>.] - ETA: 0s - loss: 0.0711INFO:tensorflow:Assets written to: .\\assets\n",
      "2325/2325 [==============================] - 13s 6ms/step - loss: 0.0711 - val_loss: 0.1768\n",
      "Epoch 6/20\n",
      "2318/2325 [============================>.] - ETA: 0s - loss: 0.0711INFO:tensorflow:Assets written to: .\\assets\n",
      "2325/2325 [==============================] - 14s 6ms/step - loss: 0.0712 - val_loss: 0.1861\n",
      "Epoch 7/20\n",
      "2318/2325 [============================>.] - ETA: 0s - loss: 0.0725INFO:tensorflow:Assets written to: .\\assets\n",
      "2325/2325 [==============================] - 14s 6ms/step - loss: 0.0724 - val_loss: 0.1629\n",
      "Epoch 8/20\n",
      "2324/2325 [============================>.] - ETA: 0s - loss: 0.0722INFO:tensorflow:Assets written to: .\\assets\n",
      "2325/2325 [==============================] - 14s 6ms/step - loss: 0.0722 - val_loss: 0.1878\n",
      "Epoch 9/20\n",
      "2320/2325 [============================>.] - ETA: 0s - loss: 0.0692INFO:tensorflow:Assets written to: .\\assets\n",
      "2325/2325 [==============================] - 14s 6ms/step - loss: 0.0692 - val_loss: 0.2919\n",
      "Epoch 10/20\n",
      "2315/2325 [============================>.] - ETA: 0s - loss: 0.0720INFO:tensorflow:Assets written to: .\\assets\n",
      "2325/2325 [==============================] - 12s 5ms/step - loss: 0.0720 - val_loss: 0.1748\n",
      "Epoch 11/20\n",
      "2320/2325 [============================>.] - ETA: 0s - loss: 0.0676INFO:tensorflow:Assets written to: .\\assets\n",
      "2325/2325 [==============================] - 16s 7ms/step - loss: 0.0677 - val_loss: 0.2046\n",
      "Epoch 12/20\n",
      "2324/2325 [============================>.] - ETA: 0s - loss: 0.0706INFO:tensorflow:Assets written to: .\\assets\n",
      "2325/2325 [==============================] - 15s 7ms/step - loss: 0.0706 - val_loss: 0.2416\n",
      "Epoch 13/20\n",
      "2322/2325 [============================>.] - ETA: 0s - loss: 0.0669INFO:tensorflow:Assets written to: .\\assets\n",
      "2325/2325 [==============================] - 16s 7ms/step - loss: 0.0668 - val_loss: 0.1872\n",
      "Epoch 14/20\n",
      "2316/2325 [============================>.] - ETA: 0s - loss: 0.0697INFO:tensorflow:Assets written to: .\\assets\n",
      "2325/2325 [==============================] - 15s 7ms/step - loss: 0.0696 - val_loss: 0.1665\n",
      "Epoch 15/20\n",
      "2319/2325 [============================>.] - ETA: 0s - loss: 0.0675INFO:tensorflow:Assets written to: .\\assets\n",
      "2325/2325 [==============================] - 16s 7ms/step - loss: 0.0674 - val_loss: 0.1554\n",
      "Epoch 16/20\n",
      "2325/2325 [==============================] - ETA: 0s - loss: 0.0657INFO:tensorflow:Assets written to: .\\assets\n",
      "2325/2325 [==============================] - 16s 7ms/step - loss: 0.0657 - val_loss: 0.1169\n",
      "Epoch 17/20\n",
      "2320/2325 [============================>.] - ETA: 0s - loss: 0.0646INFO:tensorflow:Assets written to: .\\assets\n",
      "2325/2325 [==============================] - 16s 7ms/step - loss: 0.0647 - val_loss: 0.1016\n",
      "Epoch 18/20\n",
      "2322/2325 [============================>.] - ETA: 0s - loss: 0.0659INFO:tensorflow:Assets written to: .\\assets\n",
      "2325/2325 [==============================] - 15s 7ms/step - loss: 0.0660 - val_loss: 0.2303\n",
      "Epoch 19/20\n",
      "2321/2325 [============================>.] - ETA: 0s - loss: 0.0649INFO:tensorflow:Assets written to: .\\assets\n",
      "2325/2325 [==============================] - 16s 7ms/step - loss: 0.0648 - val_loss: 0.1519\n",
      "Epoch 20/20\n",
      "2317/2325 [============================>.] - ETA: 0s - loss: 0.0637INFO:tensorflow:Assets written to: .\\assets\n",
      "2325/2325 [==============================] - 15s 7ms/step - loss: 0.0636 - val_loss: 0.1372\n"
     ]
    }
   ],
   "source": [
    "history = model.fit(train_gen,\n",
    "                    validation_data=val_gen,\n",
    "                    epochs=20,\n",
    "                    callbacks=tf.keras.callbacks.ModelCheckpoint('.'),\n",
    "                    steps_per_epoch=steps_per_epoch,\n",
    "                    validation_steps=val_steps)"
   ]
  },
  {
   "cell_type": "code",
   "execution_count": 20,
   "id": "9d6c6dc9e7588fb5",
   "metadata": {
    "ExecuteTime": {
     "end_time": "2023-10-31T08:03:33.544507993Z",
     "start_time": "2023-10-31T08:01:28.930496783Z"
    },
    "colab": {
     "base_uri": "https://localhost:8080/"
    },
    "id": "9d6c6dc9e7588fb5",
    "outputId": "5c190f3f-7d61-4755-9f3c-1d28cf35f6fd"
   },
   "outputs": [
    {
     "name": "stdout",
     "output_type": "stream",
     "text": [
      "Epoch 1/20\n",
      "2322/2325 [============================>.] - ETA: 0s - loss: 0.1037"
     ]
    },
    {
     "name": "stderr",
     "output_type": "stream",
     "text": [
      "WARNING:absl:Found untraced functions such as gru_cell_layer_call_fn, gru_cell_layer_call_and_return_conditional_losses while saving (showing 2 of 2). These functions will not be directly callable after loading.\n"
     ]
    },
    {
     "name": "stdout",
     "output_type": "stream",
     "text": [
      "INFO:tensorflow:Assets written to: .\\assets\n"
     ]
    },
    {
     "name": "stderr",
     "output_type": "stream",
     "text": [
      "INFO:tensorflow:Assets written to: .\\assets\n"
     ]
    },
    {
     "name": "stdout",
     "output_type": "stream",
     "text": [
      "2325/2325 [==============================] - 60s 23ms/step - loss: 0.1037 - val_loss: 0.1875\n",
      "Epoch 2/20\n",
      "2325/2325 [==============================] - ETA: 0s - loss: 0.0990"
     ]
    },
    {
     "name": "stderr",
     "output_type": "stream",
     "text": [
      "WARNING:absl:Found untraced functions such as gru_cell_layer_call_fn, gru_cell_layer_call_and_return_conditional_losses while saving (showing 2 of 2). These functions will not be directly callable after loading.\n"
     ]
    },
    {
     "name": "stdout",
     "output_type": "stream",
     "text": [
      "INFO:tensorflow:Assets written to: .\\assets\n"
     ]
    },
    {
     "name": "stderr",
     "output_type": "stream",
     "text": [
      "INFO:tensorflow:Assets written to: .\\assets\n"
     ]
    },
    {
     "name": "stdout",
     "output_type": "stream",
     "text": [
      "2325/2325 [==============================] - 59s 25ms/step - loss: 0.0990 - val_loss: 0.1856\n",
      "Epoch 3/20\n",
      "2323/2325 [============================>.] - ETA: 0s - loss: 0.1014"
     ]
    },
    {
     "name": "stderr",
     "output_type": "stream",
     "text": [
      "WARNING:absl:Found untraced functions such as gru_cell_layer_call_fn, gru_cell_layer_call_and_return_conditional_losses while saving (showing 2 of 2). These functions will not be directly callable after loading.\n"
     ]
    },
    {
     "name": "stdout",
     "output_type": "stream",
     "text": [
      "INFO:tensorflow:Assets written to: .\\assets\n"
     ]
    },
    {
     "name": "stderr",
     "output_type": "stream",
     "text": [
      "INFO:tensorflow:Assets written to: .\\assets\n"
     ]
    },
    {
     "name": "stdout",
     "output_type": "stream",
     "text": [
      "2325/2325 [==============================] - 36s 16ms/step - loss: 0.1014 - val_loss: 0.1550\n",
      "Epoch 4/20\n",
      "2325/2325 [==============================] - ETA: 0s - loss: 0.0978"
     ]
    },
    {
     "name": "stderr",
     "output_type": "stream",
     "text": [
      "WARNING:absl:Found untraced functions such as gru_cell_layer_call_fn, gru_cell_layer_call_and_return_conditional_losses while saving (showing 2 of 2). These functions will not be directly callable after loading.\n"
     ]
    },
    {
     "name": "stdout",
     "output_type": "stream",
     "text": [
      "INFO:tensorflow:Assets written to: .\\assets\n"
     ]
    },
    {
     "name": "stderr",
     "output_type": "stream",
     "text": [
      "INFO:tensorflow:Assets written to: .\\assets\n"
     ]
    },
    {
     "name": "stdout",
     "output_type": "stream",
     "text": [
      "2325/2325 [==============================] - 39s 17ms/step - loss: 0.0978 - val_loss: 0.2038\n",
      "Epoch 5/20\n",
      "2323/2325 [============================>.] - ETA: 0s - loss: 0.1017"
     ]
    },
    {
     "name": "stderr",
     "output_type": "stream",
     "text": [
      "WARNING:absl:Found untraced functions such as gru_cell_layer_call_fn, gru_cell_layer_call_and_return_conditional_losses while saving (showing 2 of 2). These functions will not be directly callable after loading.\n"
     ]
    },
    {
     "name": "stdout",
     "output_type": "stream",
     "text": [
      "INFO:tensorflow:Assets written to: .\\assets\n"
     ]
    },
    {
     "name": "stderr",
     "output_type": "stream",
     "text": [
      "INFO:tensorflow:Assets written to: .\\assets\n"
     ]
    },
    {
     "name": "stdout",
     "output_type": "stream",
     "text": [
      "2325/2325 [==============================] - 36s 16ms/step - loss: 0.1016 - val_loss: 0.1859\n",
      "Epoch 6/20\n",
      "2321/2325 [============================>.] - ETA: 0s - loss: 0.0985"
     ]
    },
    {
     "name": "stderr",
     "output_type": "stream",
     "text": [
      "WARNING:absl:Found untraced functions such as gru_cell_layer_call_fn, gru_cell_layer_call_and_return_conditional_losses while saving (showing 2 of 2). These functions will not be directly callable after loading.\n"
     ]
    },
    {
     "name": "stdout",
     "output_type": "stream",
     "text": [
      "INFO:tensorflow:Assets written to: .\\assets\n"
     ]
    },
    {
     "name": "stderr",
     "output_type": "stream",
     "text": [
      "INFO:tensorflow:Assets written to: .\\assets\n"
     ]
    },
    {
     "name": "stdout",
     "output_type": "stream",
     "text": [
      "2325/2325 [==============================] - 36s 15ms/step - loss: 0.0985 - val_loss: 0.2674\n",
      "Epoch 7/20\n",
      "2325/2325 [==============================] - ETA: 0s - loss: 0.1001"
     ]
    },
    {
     "name": "stderr",
     "output_type": "stream",
     "text": [
      "WARNING:absl:Found untraced functions such as gru_cell_layer_call_fn, gru_cell_layer_call_and_return_conditional_losses while saving (showing 2 of 2). These functions will not be directly callable after loading.\n"
     ]
    },
    {
     "name": "stdout",
     "output_type": "stream",
     "text": [
      "INFO:tensorflow:Assets written to: .\\assets\n"
     ]
    },
    {
     "name": "stderr",
     "output_type": "stream",
     "text": [
      "INFO:tensorflow:Assets written to: .\\assets\n"
     ]
    },
    {
     "name": "stdout",
     "output_type": "stream",
     "text": [
      "2325/2325 [==============================] - 35s 15ms/step - loss: 0.1001 - val_loss: 0.2526\n",
      "Epoch 8/20\n",
      "2322/2325 [============================>.] - ETA: 0s - loss: 0.0931"
     ]
    },
    {
     "name": "stderr",
     "output_type": "stream",
     "text": [
      "WARNING:absl:Found untraced functions such as gru_cell_layer_call_fn, gru_cell_layer_call_and_return_conditional_losses while saving (showing 2 of 2). These functions will not be directly callable after loading.\n"
     ]
    },
    {
     "name": "stdout",
     "output_type": "stream",
     "text": [
      "INFO:tensorflow:Assets written to: .\\assets\n"
     ]
    },
    {
     "name": "stderr",
     "output_type": "stream",
     "text": [
      "INFO:tensorflow:Assets written to: .\\assets\n"
     ]
    },
    {
     "name": "stdout",
     "output_type": "stream",
     "text": [
      "2325/2325 [==============================] - 36s 15ms/step - loss: 0.0932 - val_loss: 0.1220\n",
      "Epoch 9/20\n",
      "2323/2325 [============================>.] - ETA: 0s - loss: 0.1029"
     ]
    },
    {
     "name": "stderr",
     "output_type": "stream",
     "text": [
      "WARNING:absl:Found untraced functions such as gru_cell_layer_call_fn, gru_cell_layer_call_and_return_conditional_losses while saving (showing 2 of 2). These functions will not be directly callable after loading.\n"
     ]
    },
    {
     "name": "stdout",
     "output_type": "stream",
     "text": [
      "INFO:tensorflow:Assets written to: .\\assets\n"
     ]
    },
    {
     "name": "stderr",
     "output_type": "stream",
     "text": [
      "INFO:tensorflow:Assets written to: .\\assets\n"
     ]
    },
    {
     "name": "stdout",
     "output_type": "stream",
     "text": [
      "2325/2325 [==============================] - 37s 16ms/step - loss: 0.1029 - val_loss: 0.1401\n",
      "Epoch 10/20\n",
      "2324/2325 [============================>.] - ETA: 0s - loss: 0.1129"
     ]
    },
    {
     "name": "stderr",
     "output_type": "stream",
     "text": [
      "WARNING:absl:Found untraced functions such as gru_cell_layer_call_fn, gru_cell_layer_call_and_return_conditional_losses while saving (showing 2 of 2). These functions will not be directly callable after loading.\n"
     ]
    },
    {
     "name": "stdout",
     "output_type": "stream",
     "text": [
      "INFO:tensorflow:Assets written to: .\\assets\n"
     ]
    },
    {
     "name": "stderr",
     "output_type": "stream",
     "text": [
      "INFO:tensorflow:Assets written to: .\\assets\n"
     ]
    },
    {
     "name": "stdout",
     "output_type": "stream",
     "text": [
      "2325/2325 [==============================] - 35s 15ms/step - loss: 0.1129 - val_loss: 0.1022\n",
      "Epoch 11/20\n",
      "2325/2325 [==============================] - ETA: 0s - loss: 0.1247"
     ]
    },
    {
     "name": "stderr",
     "output_type": "stream",
     "text": [
      "WARNING:absl:Found untraced functions such as gru_cell_layer_call_fn, gru_cell_layer_call_and_return_conditional_losses while saving (showing 2 of 2). These functions will not be directly callable after loading.\n"
     ]
    },
    {
     "name": "stdout",
     "output_type": "stream",
     "text": [
      "INFO:tensorflow:Assets written to: .\\assets\n"
     ]
    },
    {
     "name": "stderr",
     "output_type": "stream",
     "text": [
      "INFO:tensorflow:Assets written to: .\\assets\n"
     ]
    },
    {
     "name": "stdout",
     "output_type": "stream",
     "text": [
      "2325/2325 [==============================] - 35s 15ms/step - loss: 0.1247 - val_loss: 0.1546\n",
      "Epoch 12/20\n",
      "2325/2325 [==============================] - ETA: 0s - loss: 0.1346"
     ]
    },
    {
     "name": "stderr",
     "output_type": "stream",
     "text": [
      "WARNING:absl:Found untraced functions such as gru_cell_layer_call_fn, gru_cell_layer_call_and_return_conditional_losses while saving (showing 2 of 2). These functions will not be directly callable after loading.\n"
     ]
    },
    {
     "name": "stdout",
     "output_type": "stream",
     "text": [
      "INFO:tensorflow:Assets written to: .\\assets\n"
     ]
    },
    {
     "name": "stderr",
     "output_type": "stream",
     "text": [
      "INFO:tensorflow:Assets written to: .\\assets\n"
     ]
    },
    {
     "name": "stdout",
     "output_type": "stream",
     "text": [
      "2325/2325 [==============================] - 35s 15ms/step - loss: 0.1346 - val_loss: 0.2215\n",
      "Epoch 13/20\n",
      "2322/2325 [============================>.] - ETA: 0s - loss: 0.1279"
     ]
    },
    {
     "name": "stderr",
     "output_type": "stream",
     "text": [
      "WARNING:absl:Found untraced functions such as gru_cell_layer_call_fn, gru_cell_layer_call_and_return_conditional_losses while saving (showing 2 of 2). These functions will not be directly callable after loading.\n"
     ]
    },
    {
     "name": "stdout",
     "output_type": "stream",
     "text": [
      "INFO:tensorflow:Assets written to: .\\assets\n"
     ]
    },
    {
     "name": "stderr",
     "output_type": "stream",
     "text": [
      "INFO:tensorflow:Assets written to: .\\assets\n"
     ]
    },
    {
     "name": "stdout",
     "output_type": "stream",
     "text": [
      "2325/2325 [==============================] - 35s 15ms/step - loss: 0.1278 - val_loss: 0.2110\n",
      "Epoch 14/20\n",
      "2324/2325 [============================>.] - ETA: 0s - loss: 0.1217"
     ]
    },
    {
     "name": "stderr",
     "output_type": "stream",
     "text": [
      "WARNING:absl:Found untraced functions such as gru_cell_layer_call_fn, gru_cell_layer_call_and_return_conditional_losses while saving (showing 2 of 2). These functions will not be directly callable after loading.\n"
     ]
    },
    {
     "name": "stdout",
     "output_type": "stream",
     "text": [
      "INFO:tensorflow:Assets written to: .\\assets\n"
     ]
    },
    {
     "name": "stderr",
     "output_type": "stream",
     "text": [
      "INFO:tensorflow:Assets written to: .\\assets\n"
     ]
    },
    {
     "name": "stdout",
     "output_type": "stream",
     "text": [
      "2325/2325 [==============================] - 36s 16ms/step - loss: 0.1217 - val_loss: 0.2103\n",
      "Epoch 15/20\n",
      "2325/2325 [==============================] - ETA: 0s - loss: 0.1307"
     ]
    },
    {
     "name": "stderr",
     "output_type": "stream",
     "text": [
      "WARNING:absl:Found untraced functions such as gru_cell_layer_call_fn, gru_cell_layer_call_and_return_conditional_losses while saving (showing 2 of 2). These functions will not be directly callable after loading.\n"
     ]
    },
    {
     "name": "stdout",
     "output_type": "stream",
     "text": [
      "INFO:tensorflow:Assets written to: .\\assets\n"
     ]
    },
    {
     "name": "stderr",
     "output_type": "stream",
     "text": [
      "INFO:tensorflow:Assets written to: .\\assets\n"
     ]
    },
    {
     "name": "stdout",
     "output_type": "stream",
     "text": [
      "2325/2325 [==============================] - 37s 16ms/step - loss: 0.1307 - val_loss: 0.2415\n",
      "Epoch 16/20\n",
      "2324/2325 [============================>.] - ETA: 0s - loss: 0.1343"
     ]
    },
    {
     "name": "stderr",
     "output_type": "stream",
     "text": [
      "WARNING:absl:Found untraced functions such as gru_cell_layer_call_fn, gru_cell_layer_call_and_return_conditional_losses while saving (showing 2 of 2). These functions will not be directly callable after loading.\n"
     ]
    },
    {
     "name": "stdout",
     "output_type": "stream",
     "text": [
      "INFO:tensorflow:Assets written to: .\\assets\n"
     ]
    },
    {
     "name": "stderr",
     "output_type": "stream",
     "text": [
      "INFO:tensorflow:Assets written to: .\\assets\n"
     ]
    },
    {
     "name": "stdout",
     "output_type": "stream",
     "text": [
      "2325/2325 [==============================] - 37s 16ms/step - loss: 0.1343 - val_loss: 0.1663\n",
      "Epoch 17/20\n",
      "2321/2325 [============================>.] - ETA: 0s - loss: 0.1226"
     ]
    },
    {
     "name": "stderr",
     "output_type": "stream",
     "text": [
      "WARNING:absl:Found untraced functions such as gru_cell_layer_call_fn, gru_cell_layer_call_and_return_conditional_losses while saving (showing 2 of 2). These functions will not be directly callable after loading.\n"
     ]
    },
    {
     "name": "stdout",
     "output_type": "stream",
     "text": [
      "INFO:tensorflow:Assets written to: .\\assets\n"
     ]
    },
    {
     "name": "stderr",
     "output_type": "stream",
     "text": [
      "INFO:tensorflow:Assets written to: .\\assets\n"
     ]
    },
    {
     "name": "stdout",
     "output_type": "stream",
     "text": [
      "2325/2325 [==============================] - 41s 18ms/step - loss: 0.1225 - val_loss: 0.1658\n",
      "Epoch 18/20\n",
      "2321/2325 [============================>.] - ETA: 0s - loss: 0.1299"
     ]
    },
    {
     "name": "stderr",
     "output_type": "stream",
     "text": [
      "WARNING:absl:Found untraced functions such as gru_cell_layer_call_fn, gru_cell_layer_call_and_return_conditional_losses while saving (showing 2 of 2). These functions will not be directly callable after loading.\n"
     ]
    },
    {
     "name": "stdout",
     "output_type": "stream",
     "text": [
      "INFO:tensorflow:Assets written to: .\\assets\n"
     ]
    },
    {
     "name": "stderr",
     "output_type": "stream",
     "text": [
      "INFO:tensorflow:Assets written to: .\\assets\n"
     ]
    },
    {
     "name": "stdout",
     "output_type": "stream",
     "text": [
      "2325/2325 [==============================] - 39s 17ms/step - loss: 0.1298 - val_loss: 0.2084\n",
      "Epoch 19/20\n",
      "2323/2325 [============================>.] - ETA: 0s - loss: 0.1327"
     ]
    },
    {
     "name": "stderr",
     "output_type": "stream",
     "text": [
      "WARNING:absl:Found untraced functions such as gru_cell_layer_call_fn, gru_cell_layer_call_and_return_conditional_losses while saving (showing 2 of 2). These functions will not be directly callable after loading.\n"
     ]
    },
    {
     "name": "stdout",
     "output_type": "stream",
     "text": [
      "INFO:tensorflow:Assets written to: .\\assets\n"
     ]
    },
    {
     "name": "stderr",
     "output_type": "stream",
     "text": [
      "INFO:tensorflow:Assets written to: .\\assets\n"
     ]
    },
    {
     "name": "stdout",
     "output_type": "stream",
     "text": [
      "2325/2325 [==============================] - 35s 15ms/step - loss: 0.1327 - val_loss: 0.1742\n",
      "Epoch 20/20\n",
      "2322/2325 [============================>.] - ETA: 0s - loss: 0.1360"
     ]
    },
    {
     "name": "stderr",
     "output_type": "stream",
     "text": [
      "WARNING:absl:Found untraced functions such as gru_cell_layer_call_fn, gru_cell_layer_call_and_return_conditional_losses while saving (showing 2 of 2). These functions will not be directly callable after loading.\n"
     ]
    },
    {
     "name": "stdout",
     "output_type": "stream",
     "text": [
      "INFO:tensorflow:Assets written to: .\\assets\n"
     ]
    },
    {
     "name": "stderr",
     "output_type": "stream",
     "text": [
      "INFO:tensorflow:Assets written to: .\\assets\n"
     ]
    },
    {
     "name": "stdout",
     "output_type": "stream",
     "text": [
      "2325/2325 [==============================] - 37s 16ms/step - loss: 0.1359 - val_loss: 0.1755\n"
     ]
    }
   ],
   "source": [
    "model2 = tf.keras.models.Sequential()\n",
    "model2.add(tf.keras.layers.GRU(32, input_shape=(None, data.shape[-1])))\n",
    "model2.add(tf.keras.layers.Dense(1))\n",
    "model2.compile(optimizer=tf.keras.optimizers.RMSprop(), loss='mae')\n",
    "history2 = model2.fit(train_gen,\n",
    "                    validation_data=val_gen,\n",
    "                    epochs=20,\n",
    "                    callbacks=tf.keras.callbacks.ModelCheckpoint('.'),\n",
    "                    steps_per_epoch=steps_per_epoch,\n",
    "                    validation_steps=val_steps)"
   ]
  },
  {
   "cell_type": "code",
   "execution_count": 21,
   "id": "af3ea3f114b518a0",
   "metadata": {
    "ExecuteTime": {
     "end_time": "2023-10-31T08:03:33.605274656Z",
     "start_time": "2023-10-31T08:03:33.592207844Z"
    },
    "colab": {
     "base_uri": "https://localhost:8080/"
    },
    "id": "af3ea3f114b518a0",
    "outputId": "a56ec9a7-f68c-4dc2-94db-21386ce49c7d"
   },
   "outputs": [
    {
     "name": "stdout",
     "output_type": "stream",
     "text": [
      "Epoch 1/20\n",
      "2324/2325 [============================>.] - ETA: 0s - loss: 0.0968"
     ]
    },
    {
     "name": "stderr",
     "output_type": "stream",
     "text": [
      "WARNING:absl:Found untraced functions such as gru_cell_2_layer_call_fn, gru_cell_2_layer_call_and_return_conditional_losses, gru_cell_3_layer_call_fn, gru_cell_3_layer_call_and_return_conditional_losses while saving (showing 4 of 4). These functions will not be directly callable after loading.\n"
     ]
    },
    {
     "name": "stdout",
     "output_type": "stream",
     "text": [
      "INFO:tensorflow:Assets written to: .\\assets\n"
     ]
    },
    {
     "name": "stderr",
     "output_type": "stream",
     "text": [
      "INFO:tensorflow:Assets written to: .\\assets\n"
     ]
    },
    {
     "name": "stdout",
     "output_type": "stream",
     "text": [
      "2325/2325 [==============================] - 63s 26ms/step - loss: 0.0968 - val_loss: 0.1909\n",
      "Epoch 2/20\n",
      "2323/2325 [============================>.] - ETA: 0s - loss: 0.0738"
     ]
    },
    {
     "name": "stderr",
     "output_type": "stream",
     "text": [
      "WARNING:absl:Found untraced functions such as gru_cell_2_layer_call_fn, gru_cell_2_layer_call_and_return_conditional_losses, gru_cell_3_layer_call_fn, gru_cell_3_layer_call_and_return_conditional_losses while saving (showing 4 of 4). These functions will not be directly callable after loading.\n"
     ]
    },
    {
     "name": "stdout",
     "output_type": "stream",
     "text": [
      "INFO:tensorflow:Assets written to: .\\assets\n"
     ]
    },
    {
     "name": "stderr",
     "output_type": "stream",
     "text": [
      "INFO:tensorflow:Assets written to: .\\assets\n"
     ]
    },
    {
     "name": "stdout",
     "output_type": "stream",
     "text": [
      "2325/2325 [==============================] - 62s 26ms/step - loss: 0.0739 - val_loss: 0.1475\n",
      "Epoch 3/20\n",
      "2325/2325 [==============================] - ETA: 0s - loss: 0.0797"
     ]
    },
    {
     "name": "stderr",
     "output_type": "stream",
     "text": [
      "WARNING:absl:Found untraced functions such as gru_cell_2_layer_call_fn, gru_cell_2_layer_call_and_return_conditional_losses, gru_cell_3_layer_call_fn, gru_cell_3_layer_call_and_return_conditional_losses while saving (showing 4 of 4). These functions will not be directly callable after loading.\n"
     ]
    },
    {
     "name": "stdout",
     "output_type": "stream",
     "text": [
      "INFO:tensorflow:Assets written to: .\\assets\n"
     ]
    },
    {
     "name": "stderr",
     "output_type": "stream",
     "text": [
      "INFO:tensorflow:Assets written to: .\\assets\n"
     ]
    },
    {
     "name": "stdout",
     "output_type": "stream",
     "text": [
      "2325/2325 [==============================] - 82s 35ms/step - loss: 0.0797 - val_loss: 0.1987\n",
      "Epoch 4/20\n",
      "2325/2325 [==============================] - ETA: 0s - loss: 0.0867"
     ]
    },
    {
     "name": "stderr",
     "output_type": "stream",
     "text": [
      "WARNING:absl:Found untraced functions such as gru_cell_2_layer_call_fn, gru_cell_2_layer_call_and_return_conditional_losses, gru_cell_3_layer_call_fn, gru_cell_3_layer_call_and_return_conditional_losses while saving (showing 4 of 4). These functions will not be directly callable after loading.\n"
     ]
    },
    {
     "name": "stdout",
     "output_type": "stream",
     "text": [
      "INFO:tensorflow:Assets written to: .\\assets\n"
     ]
    },
    {
     "name": "stderr",
     "output_type": "stream",
     "text": [
      "INFO:tensorflow:Assets written to: .\\assets\n"
     ]
    },
    {
     "name": "stdout",
     "output_type": "stream",
     "text": [
      "2325/2325 [==============================] - 84s 36ms/step - loss: 0.0867 - val_loss: 0.2112\n",
      "Epoch 5/20\n",
      "2325/2325 [==============================] - ETA: 0s - loss: 0.0922"
     ]
    },
    {
     "name": "stderr",
     "output_type": "stream",
     "text": [
      "WARNING:absl:Found untraced functions such as gru_cell_2_layer_call_fn, gru_cell_2_layer_call_and_return_conditional_losses, gru_cell_3_layer_call_fn, gru_cell_3_layer_call_and_return_conditional_losses while saving (showing 4 of 4). These functions will not be directly callable after loading.\n"
     ]
    },
    {
     "name": "stdout",
     "output_type": "stream",
     "text": [
      "INFO:tensorflow:Assets written to: .\\assets\n"
     ]
    },
    {
     "name": "stderr",
     "output_type": "stream",
     "text": [
      "INFO:tensorflow:Assets written to: .\\assets\n"
     ]
    },
    {
     "name": "stdout",
     "output_type": "stream",
     "text": [
      "2325/2325 [==============================] - 95s 41ms/step - loss: 0.0922 - val_loss: 0.2409\n",
      "Epoch 6/20\n",
      "2325/2325 [==============================] - ETA: 0s - loss: 0.0991"
     ]
    },
    {
     "name": "stderr",
     "output_type": "stream",
     "text": [
      "WARNING:absl:Found untraced functions such as gru_cell_2_layer_call_fn, gru_cell_2_layer_call_and_return_conditional_losses, gru_cell_3_layer_call_fn, gru_cell_3_layer_call_and_return_conditional_losses while saving (showing 4 of 4). These functions will not be directly callable after loading.\n"
     ]
    },
    {
     "name": "stdout",
     "output_type": "stream",
     "text": [
      "INFO:tensorflow:Assets written to: .\\assets\n"
     ]
    },
    {
     "name": "stderr",
     "output_type": "stream",
     "text": [
      "INFO:tensorflow:Assets written to: .\\assets\n"
     ]
    },
    {
     "name": "stdout",
     "output_type": "stream",
     "text": [
      "2325/2325 [==============================] - 91s 39ms/step - loss: 0.0991 - val_loss: 0.2975\n",
      "Epoch 7/20\n",
      "2324/2325 [============================>.] - ETA: 0s - loss: 0.0950"
     ]
    },
    {
     "name": "stderr",
     "output_type": "stream",
     "text": [
      "WARNING:absl:Found untraced functions such as gru_cell_2_layer_call_fn, gru_cell_2_layer_call_and_return_conditional_losses, gru_cell_3_layer_call_fn, gru_cell_3_layer_call_and_return_conditional_losses while saving (showing 4 of 4). These functions will not be directly callable after loading.\n"
     ]
    },
    {
     "name": "stdout",
     "output_type": "stream",
     "text": [
      "INFO:tensorflow:Assets written to: .\\assets\n"
     ]
    },
    {
     "name": "stderr",
     "output_type": "stream",
     "text": [
      "INFO:tensorflow:Assets written to: .\\assets\n"
     ]
    },
    {
     "name": "stdout",
     "output_type": "stream",
     "text": [
      "2325/2325 [==============================] - 92s 40ms/step - loss: 0.0950 - val_loss: 0.3971\n",
      "Epoch 8/20\n",
      "2324/2325 [============================>.] - ETA: 0s - loss: 0.0924"
     ]
    },
    {
     "name": "stderr",
     "output_type": "stream",
     "text": [
      "WARNING:absl:Found untraced functions such as gru_cell_2_layer_call_fn, gru_cell_2_layer_call_and_return_conditional_losses, gru_cell_3_layer_call_fn, gru_cell_3_layer_call_and_return_conditional_losses while saving (showing 4 of 4). These functions will not be directly callable after loading.\n"
     ]
    },
    {
     "name": "stdout",
     "output_type": "stream",
     "text": [
      "INFO:tensorflow:Assets written to: .\\assets\n"
     ]
    },
    {
     "name": "stderr",
     "output_type": "stream",
     "text": [
      "INFO:tensorflow:Assets written to: .\\assets\n"
     ]
    },
    {
     "name": "stdout",
     "output_type": "stream",
     "text": [
      "2325/2325 [==============================] - 92s 40ms/step - loss: 0.0924 - val_loss: 0.2088\n",
      "Epoch 9/20\n",
      "2324/2325 [============================>.] - ETA: 0s - loss: 0.0913"
     ]
    },
    {
     "name": "stderr",
     "output_type": "stream",
     "text": [
      "WARNING:absl:Found untraced functions such as gru_cell_2_layer_call_fn, gru_cell_2_layer_call_and_return_conditional_losses, gru_cell_3_layer_call_fn, gru_cell_3_layer_call_and_return_conditional_losses while saving (showing 4 of 4). These functions will not be directly callable after loading.\n"
     ]
    },
    {
     "name": "stdout",
     "output_type": "stream",
     "text": [
      "INFO:tensorflow:Assets written to: .\\assets\n"
     ]
    },
    {
     "name": "stderr",
     "output_type": "stream",
     "text": [
      "INFO:tensorflow:Assets written to: .\\assets\n"
     ]
    },
    {
     "name": "stdout",
     "output_type": "stream",
     "text": [
      "2325/2325 [==============================] - 94s 41ms/step - loss: 0.0913 - val_loss: 0.1785\n",
      "Epoch 10/20\n",
      "2324/2325 [============================>.] - ETA: 0s - loss: 0.1033"
     ]
    },
    {
     "name": "stderr",
     "output_type": "stream",
     "text": [
      "WARNING:absl:Found untraced functions such as gru_cell_2_layer_call_fn, gru_cell_2_layer_call_and_return_conditional_losses, gru_cell_3_layer_call_fn, gru_cell_3_layer_call_and_return_conditional_losses while saving (showing 4 of 4). These functions will not be directly callable after loading.\n"
     ]
    },
    {
     "name": "stdout",
     "output_type": "stream",
     "text": [
      "INFO:tensorflow:Assets written to: .\\assets\n"
     ]
    },
    {
     "name": "stderr",
     "output_type": "stream",
     "text": [
      "INFO:tensorflow:Assets written to: .\\assets\n"
     ]
    },
    {
     "name": "stdout",
     "output_type": "stream",
     "text": [
      "2325/2325 [==============================] - 104s 45ms/step - loss: 0.1033 - val_loss: 0.1418\n",
      "Epoch 11/20\n",
      "2325/2325 [==============================] - ETA: 0s - loss: 0.1133"
     ]
    },
    {
     "name": "stderr",
     "output_type": "stream",
     "text": [
      "WARNING:absl:Found untraced functions such as gru_cell_2_layer_call_fn, gru_cell_2_layer_call_and_return_conditional_losses, gru_cell_3_layer_call_fn, gru_cell_3_layer_call_and_return_conditional_losses while saving (showing 4 of 4). These functions will not be directly callable after loading.\n"
     ]
    },
    {
     "name": "stdout",
     "output_type": "stream",
     "text": [
      "INFO:tensorflow:Assets written to: .\\assets\n"
     ]
    },
    {
     "name": "stderr",
     "output_type": "stream",
     "text": [
      "INFO:tensorflow:Assets written to: .\\assets\n"
     ]
    },
    {
     "name": "stdout",
     "output_type": "stream",
     "text": [
      "2325/2325 [==============================] - 91s 39ms/step - loss: 0.1133 - val_loss: 0.2010\n",
      "Epoch 12/20\n",
      "2324/2325 [============================>.] - ETA: 0s - loss: 0.1102"
     ]
    },
    {
     "name": "stderr",
     "output_type": "stream",
     "text": [
      "WARNING:absl:Found untraced functions such as gru_cell_2_layer_call_fn, gru_cell_2_layer_call_and_return_conditional_losses, gru_cell_3_layer_call_fn, gru_cell_3_layer_call_and_return_conditional_losses while saving (showing 4 of 4). These functions will not be directly callable after loading.\n"
     ]
    },
    {
     "name": "stdout",
     "output_type": "stream",
     "text": [
      "INFO:tensorflow:Assets written to: .\\assets\n"
     ]
    },
    {
     "name": "stderr",
     "output_type": "stream",
     "text": [
      "INFO:tensorflow:Assets written to: .\\assets\n"
     ]
    },
    {
     "name": "stdout",
     "output_type": "stream",
     "text": [
      "2325/2325 [==============================] - 102s 44ms/step - loss: 0.1102 - val_loss: 0.2920\n",
      "Epoch 13/20\n",
      "2325/2325 [==============================] - ETA: 0s - loss: 0.1074"
     ]
    },
    {
     "name": "stderr",
     "output_type": "stream",
     "text": [
      "WARNING:absl:Found untraced functions such as gru_cell_2_layer_call_fn, gru_cell_2_layer_call_and_return_conditional_losses, gru_cell_3_layer_call_fn, gru_cell_3_layer_call_and_return_conditional_losses while saving (showing 4 of 4). These functions will not be directly callable after loading.\n"
     ]
    },
    {
     "name": "stdout",
     "output_type": "stream",
     "text": [
      "INFO:tensorflow:Assets written to: .\\assets\n"
     ]
    },
    {
     "name": "stderr",
     "output_type": "stream",
     "text": [
      "INFO:tensorflow:Assets written to: .\\assets\n"
     ]
    },
    {
     "name": "stdout",
     "output_type": "stream",
     "text": [
      "2325/2325 [==============================] - 72s 31ms/step - loss: 0.1074 - val_loss: 0.2330\n",
      "Epoch 14/20\n",
      "2323/2325 [============================>.] - ETA: 0s - loss: 0.1147"
     ]
    },
    {
     "name": "stderr",
     "output_type": "stream",
     "text": [
      "WARNING:absl:Found untraced functions such as gru_cell_2_layer_call_fn, gru_cell_2_layer_call_and_return_conditional_losses, gru_cell_3_layer_call_fn, gru_cell_3_layer_call_and_return_conditional_losses while saving (showing 4 of 4). These functions will not be directly callable after loading.\n"
     ]
    },
    {
     "name": "stdout",
     "output_type": "stream",
     "text": [
      "INFO:tensorflow:Assets written to: .\\assets\n"
     ]
    },
    {
     "name": "stderr",
     "output_type": "stream",
     "text": [
      "INFO:tensorflow:Assets written to: .\\assets\n"
     ]
    },
    {
     "name": "stdout",
     "output_type": "stream",
     "text": [
      "2325/2325 [==============================] - 63s 27ms/step - loss: 0.1148 - val_loss: 0.2515\n",
      "Epoch 15/20\n",
      "2324/2325 [============================>.] - ETA: 0s - loss: 0.1072"
     ]
    },
    {
     "name": "stderr",
     "output_type": "stream",
     "text": [
      "WARNING:absl:Found untraced functions such as gru_cell_2_layer_call_fn, gru_cell_2_layer_call_and_return_conditional_losses, gru_cell_3_layer_call_fn, gru_cell_3_layer_call_and_return_conditional_losses while saving (showing 4 of 4). These functions will not be directly callable after loading.\n"
     ]
    },
    {
     "name": "stdout",
     "output_type": "stream",
     "text": [
      "INFO:tensorflow:Assets written to: .\\assets\n"
     ]
    },
    {
     "name": "stderr",
     "output_type": "stream",
     "text": [
      "INFO:tensorflow:Assets written to: .\\assets\n"
     ]
    },
    {
     "name": "stdout",
     "output_type": "stream",
     "text": [
      "2325/2325 [==============================] - 62s 27ms/step - loss: 0.1072 - val_loss: 0.1941\n",
      "Epoch 16/20\n",
      "2324/2325 [============================>.] - ETA: 0s - loss: 0.1219"
     ]
    },
    {
     "name": "stderr",
     "output_type": "stream",
     "text": [
      "WARNING:absl:Found untraced functions such as gru_cell_2_layer_call_fn, gru_cell_2_layer_call_and_return_conditional_losses, gru_cell_3_layer_call_fn, gru_cell_3_layer_call_and_return_conditional_losses while saving (showing 4 of 4). These functions will not be directly callable after loading.\n"
     ]
    },
    {
     "name": "stdout",
     "output_type": "stream",
     "text": [
      "INFO:tensorflow:Assets written to: .\\assets\n"
     ]
    },
    {
     "name": "stderr",
     "output_type": "stream",
     "text": [
      "INFO:tensorflow:Assets written to: .\\assets\n"
     ]
    },
    {
     "name": "stdout",
     "output_type": "stream",
     "text": [
      "2325/2325 [==============================] - 63s 27ms/step - loss: 0.1219 - val_loss: 0.1315\n",
      "Epoch 17/20\n",
      "2325/2325 [==============================] - ETA: 0s - loss: 0.1123"
     ]
    },
    {
     "name": "stderr",
     "output_type": "stream",
     "text": [
      "WARNING:absl:Found untraced functions such as gru_cell_2_layer_call_fn, gru_cell_2_layer_call_and_return_conditional_losses, gru_cell_3_layer_call_fn, gru_cell_3_layer_call_and_return_conditional_losses while saving (showing 4 of 4). These functions will not be directly callable after loading.\n"
     ]
    },
    {
     "name": "stdout",
     "output_type": "stream",
     "text": [
      "INFO:tensorflow:Assets written to: .\\assets\n"
     ]
    },
    {
     "name": "stderr",
     "output_type": "stream",
     "text": [
      "INFO:tensorflow:Assets written to: .\\assets\n"
     ]
    },
    {
     "name": "stdout",
     "output_type": "stream",
     "text": [
      "2325/2325 [==============================] - 62s 27ms/step - loss: 0.1123 - val_loss: 0.1693\n",
      "Epoch 18/20\n",
      "2323/2325 [============================>.] - ETA: 0s - loss: 0.1238"
     ]
    },
    {
     "name": "stderr",
     "output_type": "stream",
     "text": [
      "WARNING:absl:Found untraced functions such as gru_cell_2_layer_call_fn, gru_cell_2_layer_call_and_return_conditional_losses, gru_cell_3_layer_call_fn, gru_cell_3_layer_call_and_return_conditional_losses while saving (showing 4 of 4). These functions will not be directly callable after loading.\n"
     ]
    },
    {
     "name": "stdout",
     "output_type": "stream",
     "text": [
      "INFO:tensorflow:Assets written to: .\\assets\n"
     ]
    },
    {
     "name": "stderr",
     "output_type": "stream",
     "text": [
      "INFO:tensorflow:Assets written to: .\\assets\n"
     ]
    },
    {
     "name": "stdout",
     "output_type": "stream",
     "text": [
      "2325/2325 [==============================] - 62s 27ms/step - loss: 0.1238 - val_loss: 0.1457\n",
      "Epoch 19/20\n",
      "2325/2325 [==============================] - ETA: 0s - loss: 0.1076"
     ]
    },
    {
     "name": "stderr",
     "output_type": "stream",
     "text": [
      "WARNING:absl:Found untraced functions such as gru_cell_2_layer_call_fn, gru_cell_2_layer_call_and_return_conditional_losses, gru_cell_3_layer_call_fn, gru_cell_3_layer_call_and_return_conditional_losses while saving (showing 4 of 4). These functions will not be directly callable after loading.\n"
     ]
    },
    {
     "name": "stdout",
     "output_type": "stream",
     "text": [
      "INFO:tensorflow:Assets written to: .\\assets\n"
     ]
    },
    {
     "name": "stderr",
     "output_type": "stream",
     "text": [
      "INFO:tensorflow:Assets written to: .\\assets\n"
     ]
    },
    {
     "name": "stdout",
     "output_type": "stream",
     "text": [
      "2325/2325 [==============================] - 61s 26ms/step - loss: 0.1076 - val_loss: 0.1635\n",
      "Epoch 20/20\n",
      "2324/2325 [============================>.] - ETA: 0s - loss: 0.1136"
     ]
    },
    {
     "name": "stderr",
     "output_type": "stream",
     "text": [
      "WARNING:absl:Found untraced functions such as gru_cell_2_layer_call_fn, gru_cell_2_layer_call_and_return_conditional_losses, gru_cell_3_layer_call_fn, gru_cell_3_layer_call_and_return_conditional_losses while saving (showing 4 of 4). These functions will not be directly callable after loading.\n"
     ]
    },
    {
     "name": "stdout",
     "output_type": "stream",
     "text": [
      "INFO:tensorflow:Assets written to: .\\assets\n"
     ]
    },
    {
     "name": "stderr",
     "output_type": "stream",
     "text": [
      "INFO:tensorflow:Assets written to: .\\assets\n"
     ]
    },
    {
     "name": "stdout",
     "output_type": "stream",
     "text": [
      "2325/2325 [==============================] - 60s 26ms/step - loss: 0.1136 - val_loss: 0.1393\n"
     ]
    }
   ],
   "source": [
    "model3 = tf.keras.models.Sequential()\n",
    "model3.add(tf.keras.layers.Bidirectional(tf.keras.layers.GRU(32), input_shape=(None, data.shape[-1])))\n",
    "model3.add(tf.keras.layers.Dense(1))\n",
    "model3.compile(optimizer=tf.keras.optimizers.RMSprop(), loss='mae')\n",
    "history3 = model3.fit(train_gen,\n",
    "                    validation_data=val_gen,\n",
    "                    epochs=20,\n",
    "                    callbacks=tf.keras.callbacks.ModelCheckpoint('.'),\n",
    "                    steps_per_epoch=steps_per_epoch,\n",
    "                    validation_steps=val_steps)"
   ]
  },
  {
   "cell_type": "code",
   "execution_count": 22,
   "id": "64b0c15a8356cb0e",
   "metadata": {
    "ExecuteTime": {
     "start_time": "2023-10-31T08:03:33.592454988Z"
    },
    "colab": {
     "base_uri": "https://localhost:8080/"
    },
    "id": "64b0c15a8356cb0e",
    "outputId": "341a4bc2-4a6f-4c64-fc5b-ad0347344673"
   },
   "outputs": [
    {
     "name": "stdout",
     "output_type": "stream",
     "text": [
      "WARNING:tensorflow:Layer gru_2 will not use cuDNN kernels since it doesn't meet the criteria. It will use a generic GPU kernel as fallback when running on GPU.\n"
     ]
    },
    {
     "name": "stderr",
     "output_type": "stream",
     "text": [
      "WARNING:tensorflow:Layer gru_2 will not use cuDNN kernels since it doesn't meet the criteria. It will use a generic GPU kernel as fallback when running on GPU.\n"
     ]
    },
    {
     "name": "stdout",
     "output_type": "stream",
     "text": [
      "Epoch 1/20\n",
      "2325/2325 [==============================] - ETA: 0s - loss: 0.1072"
     ]
    },
    {
     "name": "stderr",
     "output_type": "stream",
     "text": [
      "WARNING:absl:Found untraced functions such as _jit_compiled_convolution_op, _jit_compiled_convolution_op while saving (showing 2 of 2). These functions will not be directly callable after loading.\n"
     ]
    },
    {
     "name": "stdout",
     "output_type": "stream",
     "text": [
      "INFO:tensorflow:Assets written to: .\\assets\n"
     ]
    },
    {
     "name": "stderr",
     "output_type": "stream",
     "text": [
      "INFO:tensorflow:Assets written to: .\\assets\n"
     ]
    },
    {
     "name": "stdout",
     "output_type": "stream",
     "text": [
      "2325/2325 [==============================] - 462s 196ms/step - loss: 0.1072 - val_loss: 0.1559\n",
      "Epoch 2/20\n",
      "2325/2325 [==============================] - ETA: 0s - loss: 0.0922"
     ]
    },
    {
     "name": "stderr",
     "output_type": "stream",
     "text": [
      "WARNING:absl:Found untraced functions such as _jit_compiled_convolution_op, _jit_compiled_convolution_op while saving (showing 2 of 2). These functions will not be directly callable after loading.\n"
     ]
    },
    {
     "name": "stdout",
     "output_type": "stream",
     "text": [
      "INFO:tensorflow:Assets written to: .\\assets\n"
     ]
    },
    {
     "name": "stderr",
     "output_type": "stream",
     "text": [
      "INFO:tensorflow:Assets written to: .\\assets\n"
     ]
    },
    {
     "name": "stdout",
     "output_type": "stream",
     "text": [
      "2325/2325 [==============================] - 677s 291ms/step - loss: 0.0922 - val_loss: 0.1180\n",
      "Epoch 3/20\n",
      "2325/2325 [==============================] - ETA: 0s - loss: 0.0863"
     ]
    },
    {
     "name": "stderr",
     "output_type": "stream",
     "text": [
      "WARNING:absl:Found untraced functions such as _jit_compiled_convolution_op, _jit_compiled_convolution_op while saving (showing 2 of 2). These functions will not be directly callable after loading.\n"
     ]
    },
    {
     "name": "stdout",
     "output_type": "stream",
     "text": [
      "INFO:tensorflow:Assets written to: .\\assets\n"
     ]
    },
    {
     "name": "stderr",
     "output_type": "stream",
     "text": [
      "INFO:tensorflow:Assets written to: .\\assets\n"
     ]
    },
    {
     "name": "stdout",
     "output_type": "stream",
     "text": [
      "2325/2325 [==============================] - 494s 212ms/step - loss: 0.0863 - val_loss: 0.1942\n",
      "Epoch 4/20\n",
      "2325/2325 [==============================] - ETA: 0s - loss: 0.0879"
     ]
    },
    {
     "name": "stderr",
     "output_type": "stream",
     "text": [
      "WARNING:absl:Found untraced functions such as _jit_compiled_convolution_op, _jit_compiled_convolution_op while saving (showing 2 of 2). These functions will not be directly callable after loading.\n"
     ]
    },
    {
     "name": "stdout",
     "output_type": "stream",
     "text": [
      "INFO:tensorflow:Assets written to: .\\assets\n"
     ]
    },
    {
     "name": "stderr",
     "output_type": "stream",
     "text": [
      "INFO:tensorflow:Assets written to: .\\assets\n"
     ]
    },
    {
     "name": "stdout",
     "output_type": "stream",
     "text": [
      "2325/2325 [==============================] - 449s 193ms/step - loss: 0.0879 - val_loss: 0.1735\n",
      "Epoch 5/20\n",
      "2325/2325 [==============================] - ETA: 0s - loss: 0.0926"
     ]
    },
    {
     "name": "stderr",
     "output_type": "stream",
     "text": [
      "WARNING:absl:Found untraced functions such as _jit_compiled_convolution_op, _jit_compiled_convolution_op while saving (showing 2 of 2). These functions will not be directly callable after loading.\n"
     ]
    },
    {
     "name": "stdout",
     "output_type": "stream",
     "text": [
      "INFO:tensorflow:Assets written to: .\\assets\n"
     ]
    },
    {
     "name": "stderr",
     "output_type": "stream",
     "text": [
      "INFO:tensorflow:Assets written to: .\\assets\n"
     ]
    },
    {
     "name": "stdout",
     "output_type": "stream",
     "text": [
      "2325/2325 [==============================] - 446s 192ms/step - loss: 0.0926 - val_loss: 0.2739\n",
      "Epoch 6/20\n",
      "2325/2325 [==============================] - ETA: 0s - loss: 0.0912"
     ]
    },
    {
     "name": "stderr",
     "output_type": "stream",
     "text": [
      "WARNING:absl:Found untraced functions such as _jit_compiled_convolution_op, _jit_compiled_convolution_op while saving (showing 2 of 2). These functions will not be directly callable after loading.\n"
     ]
    },
    {
     "name": "stdout",
     "output_type": "stream",
     "text": [
      "INFO:tensorflow:Assets written to: .\\assets\n"
     ]
    },
    {
     "name": "stderr",
     "output_type": "stream",
     "text": [
      "INFO:tensorflow:Assets written to: .\\assets\n"
     ]
    },
    {
     "name": "stdout",
     "output_type": "stream",
     "text": [
      "2325/2325 [==============================] - 455s 196ms/step - loss: 0.0912 - val_loss: 0.2832\n",
      "Epoch 7/20\n",
      "2325/2325 [==============================] - ETA: 0s - loss: 0.0916"
     ]
    },
    {
     "name": "stderr",
     "output_type": "stream",
     "text": [
      "WARNING:absl:Found untraced functions such as _jit_compiled_convolution_op, _jit_compiled_convolution_op while saving (showing 2 of 2). These functions will not be directly callable after loading.\n"
     ]
    },
    {
     "name": "stdout",
     "output_type": "stream",
     "text": [
      "INFO:tensorflow:Assets written to: .\\assets\n"
     ]
    },
    {
     "name": "stderr",
     "output_type": "stream",
     "text": [
      "INFO:tensorflow:Assets written to: .\\assets\n"
     ]
    },
    {
     "name": "stdout",
     "output_type": "stream",
     "text": [
      "2325/2325 [==============================] - 450s 194ms/step - loss: 0.0916 - val_loss: 0.2507\n",
      "Epoch 8/20\n",
      "2325/2325 [==============================] - ETA: 0s - loss: 0.0900"
     ]
    },
    {
     "name": "stderr",
     "output_type": "stream",
     "text": [
      "WARNING:absl:Found untraced functions such as _jit_compiled_convolution_op, _jit_compiled_convolution_op while saving (showing 2 of 2). These functions will not be directly callable after loading.\n"
     ]
    },
    {
     "name": "stdout",
     "output_type": "stream",
     "text": [
      "INFO:tensorflow:Assets written to: .\\assets\n"
     ]
    },
    {
     "name": "stderr",
     "output_type": "stream",
     "text": [
      "INFO:tensorflow:Assets written to: .\\assets\n"
     ]
    },
    {
     "name": "stdout",
     "output_type": "stream",
     "text": [
      "2325/2325 [==============================] - 452s 194ms/step - loss: 0.0900 - val_loss: 0.2262\n",
      "Epoch 9/20\n",
      "2325/2325 [==============================] - ETA: 0s - loss: 0.0865"
     ]
    },
    {
     "name": "stderr",
     "output_type": "stream",
     "text": [
      "WARNING:absl:Found untraced functions such as _jit_compiled_convolution_op, _jit_compiled_convolution_op while saving (showing 2 of 2). These functions will not be directly callable after loading.\n"
     ]
    },
    {
     "name": "stdout",
     "output_type": "stream",
     "text": [
      "INFO:tensorflow:Assets written to: .\\assets\n"
     ]
    },
    {
     "name": "stderr",
     "output_type": "stream",
     "text": [
      "INFO:tensorflow:Assets written to: .\\assets\n"
     ]
    },
    {
     "name": "stdout",
     "output_type": "stream",
     "text": [
      "2325/2325 [==============================] - 456s 196ms/step - loss: 0.0865 - val_loss: 0.3147\n",
      "Epoch 10/20\n",
      "2325/2325 [==============================] - ETA: 0s - loss: 0.0927"
     ]
    },
    {
     "name": "stderr",
     "output_type": "stream",
     "text": [
      "WARNING:absl:Found untraced functions such as _jit_compiled_convolution_op, _jit_compiled_convolution_op while saving (showing 2 of 2). These functions will not be directly callable after loading.\n"
     ]
    },
    {
     "name": "stdout",
     "output_type": "stream",
     "text": [
      "INFO:tensorflow:Assets written to: .\\assets\n"
     ]
    },
    {
     "name": "stderr",
     "output_type": "stream",
     "text": [
      "INFO:tensorflow:Assets written to: .\\assets\n"
     ]
    },
    {
     "name": "stdout",
     "output_type": "stream",
     "text": [
      "2325/2325 [==============================] - 448s 193ms/step - loss: 0.0927 - val_loss: 0.2418\n",
      "Epoch 11/20\n",
      "2325/2325 [==============================] - ETA: 0s - loss: 0.0895"
     ]
    },
    {
     "name": "stderr",
     "output_type": "stream",
     "text": [
      "WARNING:absl:Found untraced functions such as _jit_compiled_convolution_op, _jit_compiled_convolution_op while saving (showing 2 of 2). These functions will not be directly callable after loading.\n"
     ]
    },
    {
     "name": "stdout",
     "output_type": "stream",
     "text": [
      "INFO:tensorflow:Assets written to: .\\assets\n"
     ]
    },
    {
     "name": "stderr",
     "output_type": "stream",
     "text": [
      "INFO:tensorflow:Assets written to: .\\assets\n"
     ]
    },
    {
     "name": "stdout",
     "output_type": "stream",
     "text": [
      "2325/2325 [==============================] - 450s 194ms/step - loss: 0.0895 - val_loss: 0.3034\n",
      "Epoch 12/20\n",
      "2325/2325 [==============================] - ETA: 0s - loss: 0.0890"
     ]
    },
    {
     "name": "stderr",
     "output_type": "stream",
     "text": [
      "WARNING:absl:Found untraced functions such as _jit_compiled_convolution_op, _jit_compiled_convolution_op while saving (showing 2 of 2). These functions will not be directly callable after loading.\n"
     ]
    },
    {
     "name": "stdout",
     "output_type": "stream",
     "text": [
      "INFO:tensorflow:Assets written to: .\\assets\n"
     ]
    },
    {
     "name": "stderr",
     "output_type": "stream",
     "text": [
      "INFO:tensorflow:Assets written to: .\\assets\n"
     ]
    },
    {
     "name": "stdout",
     "output_type": "stream",
     "text": [
      "2325/2325 [==============================] - 448s 193ms/step - loss: 0.0890 - val_loss: 0.2502\n",
      "Epoch 13/20\n",
      "2325/2325 [==============================] - ETA: 0s - loss: 0.0912"
     ]
    },
    {
     "name": "stderr",
     "output_type": "stream",
     "text": [
      "WARNING:absl:Found untraced functions such as _jit_compiled_convolution_op, _jit_compiled_convolution_op while saving (showing 2 of 2). These functions will not be directly callable after loading.\n"
     ]
    },
    {
     "name": "stdout",
     "output_type": "stream",
     "text": [
      "INFO:tensorflow:Assets written to: .\\assets\n"
     ]
    },
    {
     "name": "stderr",
     "output_type": "stream",
     "text": [
      "INFO:tensorflow:Assets written to: .\\assets\n"
     ]
    },
    {
     "name": "stdout",
     "output_type": "stream",
     "text": [
      "2325/2325 [==============================] - 448s 193ms/step - loss: 0.0912 - val_loss: 0.1490\n",
      "Epoch 14/20\n",
      "2325/2325 [==============================] - ETA: 0s - loss: 0.0895"
     ]
    },
    {
     "name": "stderr",
     "output_type": "stream",
     "text": [
      "WARNING:absl:Found untraced functions such as _jit_compiled_convolution_op, _jit_compiled_convolution_op while saving (showing 2 of 2). These functions will not be directly callable after loading.\n"
     ]
    },
    {
     "name": "stdout",
     "output_type": "stream",
     "text": [
      "INFO:tensorflow:Assets written to: .\\assets\n"
     ]
    },
    {
     "name": "stderr",
     "output_type": "stream",
     "text": [
      "INFO:tensorflow:Assets written to: .\\assets\n"
     ]
    },
    {
     "name": "stdout",
     "output_type": "stream",
     "text": [
      "2325/2325 [==============================] - 431s 185ms/step - loss: 0.0895 - val_loss: 0.2261\n",
      "Epoch 15/20\n",
      "2325/2325 [==============================] - ETA: 0s - loss: 0.0896"
     ]
    },
    {
     "name": "stderr",
     "output_type": "stream",
     "text": [
      "WARNING:absl:Found untraced functions such as _jit_compiled_convolution_op, _jit_compiled_convolution_op while saving (showing 2 of 2). These functions will not be directly callable after loading.\n"
     ]
    },
    {
     "name": "stdout",
     "output_type": "stream",
     "text": [
      "INFO:tensorflow:Assets written to: .\\assets\n"
     ]
    },
    {
     "name": "stderr",
     "output_type": "stream",
     "text": [
      "INFO:tensorflow:Assets written to: .\\assets\n"
     ]
    },
    {
     "name": "stdout",
     "output_type": "stream",
     "text": [
      "2325/2325 [==============================] - 429s 184ms/step - loss: 0.0896 - val_loss: 0.2136\n",
      "Epoch 16/20\n",
      "2325/2325 [==============================] - ETA: 0s - loss: 0.0928"
     ]
    },
    {
     "name": "stderr",
     "output_type": "stream",
     "text": [
      "WARNING:absl:Found untraced functions such as _jit_compiled_convolution_op, _jit_compiled_convolution_op while saving (showing 2 of 2). These functions will not be directly callable after loading.\n"
     ]
    },
    {
     "name": "stdout",
     "output_type": "stream",
     "text": [
      "INFO:tensorflow:Assets written to: .\\assets\n"
     ]
    },
    {
     "name": "stderr",
     "output_type": "stream",
     "text": [
      "INFO:tensorflow:Assets written to: .\\assets\n"
     ]
    },
    {
     "name": "stdout",
     "output_type": "stream",
     "text": [
      "2325/2325 [==============================] - 434s 187ms/step - loss: 0.0928 - val_loss: 0.1833\n",
      "Epoch 17/20\n",
      "2325/2325 [==============================] - ETA: 0s - loss: 0.0998"
     ]
    },
    {
     "name": "stderr",
     "output_type": "stream",
     "text": [
      "WARNING:absl:Found untraced functions such as _jit_compiled_convolution_op, _jit_compiled_convolution_op while saving (showing 2 of 2). These functions will not be directly callable after loading.\n"
     ]
    },
    {
     "name": "stdout",
     "output_type": "stream",
     "text": [
      "INFO:tensorflow:Assets written to: .\\assets\n"
     ]
    },
    {
     "name": "stderr",
     "output_type": "stream",
     "text": [
      "INFO:tensorflow:Assets written to: .\\assets\n"
     ]
    },
    {
     "name": "stdout",
     "output_type": "stream",
     "text": [
      "2325/2325 [==============================] - 431s 185ms/step - loss: 0.0998 - val_loss: 0.2107\n",
      "Epoch 18/20\n",
      "2325/2325 [==============================] - ETA: 0s - loss: 0.0952"
     ]
    },
    {
     "name": "stderr",
     "output_type": "stream",
     "text": [
      "WARNING:absl:Found untraced functions such as _jit_compiled_convolution_op, _jit_compiled_convolution_op while saving (showing 2 of 2). These functions will not be directly callable after loading.\n"
     ]
    },
    {
     "name": "stdout",
     "output_type": "stream",
     "text": [
      "INFO:tensorflow:Assets written to: .\\assets\n"
     ]
    },
    {
     "name": "stderr",
     "output_type": "stream",
     "text": [
      "INFO:tensorflow:Assets written to: .\\assets\n"
     ]
    },
    {
     "name": "stdout",
     "output_type": "stream",
     "text": [
      "2325/2325 [==============================] - 430s 185ms/step - loss: 0.0952 - val_loss: 0.1347\n",
      "Epoch 19/20\n",
      "2325/2325 [==============================] - ETA: 0s - loss: 0.0932"
     ]
    },
    {
     "name": "stderr",
     "output_type": "stream",
     "text": [
      "WARNING:absl:Found untraced functions such as _jit_compiled_convolution_op, _jit_compiled_convolution_op while saving (showing 2 of 2). These functions will not be directly callable after loading.\n"
     ]
    },
    {
     "name": "stdout",
     "output_type": "stream",
     "text": [
      "INFO:tensorflow:Assets written to: .\\assets\n"
     ]
    },
    {
     "name": "stderr",
     "output_type": "stream",
     "text": [
      "INFO:tensorflow:Assets written to: .\\assets\n"
     ]
    },
    {
     "name": "stdout",
     "output_type": "stream",
     "text": [
      "2325/2325 [==============================] - 437s 188ms/step - loss: 0.0932 - val_loss: 0.2609\n",
      "Epoch 20/20\n",
      "2325/2325 [==============================] - ETA: 0s - loss: 0.0975"
     ]
    },
    {
     "name": "stderr",
     "output_type": "stream",
     "text": [
      "WARNING:absl:Found untraced functions such as _jit_compiled_convolution_op, _jit_compiled_convolution_op while saving (showing 2 of 2). These functions will not be directly callable after loading.\n"
     ]
    },
    {
     "name": "stdout",
     "output_type": "stream",
     "text": [
      "INFO:tensorflow:Assets written to: .\\assets\n"
     ]
    },
    {
     "name": "stderr",
     "output_type": "stream",
     "text": [
      "INFO:tensorflow:Assets written to: .\\assets\n"
     ]
    },
    {
     "name": "stdout",
     "output_type": "stream",
     "text": [
      "2325/2325 [==============================] - 432s 186ms/step - loss: 0.0975 - val_loss: 0.2356\n"
     ]
    }
   ],
   "source": [
    "model4 = tf.keras.models.Sequential()\n",
    "model4.add(tf.keras.layers.Conv1D(32, 5, activation='relu', input_shape=(None, data.shape[-1])))\n",
    "model4.add(tf.keras.layers.MaxPooling1D(3))\n",
    "model4.add(tf.keras.layers.Conv1D(32, 5, activation='relu'))\n",
    "model4.add(tf.keras.layers.GRU(32, dropout=0.1, recurrent_dropout=0.5))\n",
    "model4.add(tf.keras.layers.Dense(1))\n",
    "model4.compile(optimizer=tf.keras.optimizers.RMSprop(), loss='mae')\n",
    "history4 = model4.fit(train_gen,\n",
    "                    validation_data=val_gen,\n",
    "                    epochs=20,\n",
    "                    callbacks=tf.keras.callbacks.ModelCheckpoint('.'),\n",
    "                    steps_per_epoch=steps_per_epoch,\n",
    "                    validation_steps=val_steps)"
   ]
  },
  {
   "cell_type": "code",
   "execution_count": 23,
   "id": "1374a1b6ecfcaa20",
   "metadata": {
    "ExecuteTime": {
     "start_time": "2023-10-31T08:03:33.592596584Z"
    },
    "colab": {
     "base_uri": "https://localhost:8080/",
     "height": 448
    },
    "id": "1374a1b6ecfcaa20",
    "outputId": "589fc243-490d-48df-ae78-a79867f09344"
   },
   "outputs": [
    {
     "data": {
      "text/plain": [
       "[<matplotlib.lines.Line2D at 0x1d16201f3d0>]"
      ]
     },
     "execution_count": 23,
     "metadata": {},
     "output_type": "execute_result"
    },
    {
     "data": {
      "image/png": "[encoded data removed]",
      "text/plain": [
       "<Figure size 640x480 with 1 Axes>"
      ]
     },
     "metadata": {},
     "output_type": "display_data"
    }
   ],
   "source": [
    "plt.plot(history.history['loss'])\n",
    "plt.plot(history.history['val_loss'])"
   ]
  },
  {
   "cell_type": "code",
   "execution_count": 24,
   "id": "ea617c472dbd0937",
   "metadata": {
    "ExecuteTime": {
     "start_time": "2023-10-31T08:03:33.592737387Z"
    },
    "colab": {
     "base_uri": "https://localhost:8080/",
     "height": 448
    },
    "id": "ea617c472dbd0937",
    "outputId": "cb105532-e132-40d5-c79f-aea3b4476c16"
   },
   "outputs": [
    {
     "data": {
      "text/plain": [
       "[<matplotlib.lines.Line2D at 0x1d18b43beb0>]"
      ]
     },
     "execution_count": 24,
     "metadata": {},
     "output_type": "execute_result"
    },
    {
     "data": {
      "image/png": "[encoded data removed]",
      "text/plain": [
       "<Figure size 640x480 with 1 Axes>"
      ]
     },
     "metadata": {},
     "output_type": "display_data"
    }
   ],
   "source": [
    "plt.plot(history2.history['loss'])\n",
    "plt.plot(history2.history['val_loss'])"
   ]
  },
  {
   "cell_type": "code",
   "execution_count": 25,
   "id": "51d1d05d02e052d0",
   "metadata": {
    "ExecuteTime": {
     "start_time": "2023-10-31T08:03:33.592865586Z"
    },
    "colab": {
     "base_uri": "https://localhost:8080/",
     "height": 448
    },
    "id": "51d1d05d02e052d0",
    "outputId": "bb16f695-582c-4659-df1c-66f3eaa9b5f2"
   },
   "outputs": [
    {
     "data": {
      "text/plain": [
       "[<matplotlib.lines.Line2D at 0x1d18a3eb940>]"
      ]
     },
     "execution_count": 25,
     "metadata": {},
     "output_type": "execute_result"
    },
    {
     "data": {
      "image/png": "[encoded data removed]",
      "text/plain": [
       "<Figure size 640x480 with 1 Axes>"
      ]
     },
     "metadata": {},
     "output_type": "display_data"
    }
   ],
   "source": [
    "plt.plot(history3.history['loss'])\n",
    "plt.plot(history3.history['val_loss'])"
   ]
  },
  {
   "cell_type": "code",
   "execution_count": 26,
   "id": "6ac7d353df111482",
   "metadata": {
    "ExecuteTime": {
     "start_time": "2023-10-31T08:03:33.592979954Z"
    },
    "colab": {
     "base_uri": "https://localhost:8080/",
     "height": 448
    },
    "id": "6ac7d353df111482",
    "outputId": "bbf3caf2-afe3-48bd-ab38-5eb18dd3ab48"
   },
   "outputs": [
    {
     "data": {
      "text/plain": [
       "[<matplotlib.lines.Line2D at 0x1d18a427730>]"
      ]
     },
     "execution_count": 26,
     "metadata": {},
     "output_type": "execute_result"
    },
    {
     "data": {
      "image/png": "[encoded data removed]",
      "text/plain": [
       "<Figure size 640x480 with 1 Axes>"
      ]
     },
     "metadata": {},
     "output_type": "display_data"
    }
   ],
   "source": [
    "plt.plot(history4.history['loss'])\n",
    "plt.plot(history4.history['val_loss'])"
   ]
  },
  {
   "cell_type": "code",
   "execution_count": 27,
   "id": "1a8450d0d15ebc48",
   "metadata": {
    "ExecuteTime": {
     "start_time": "2023-10-31T08:03:33.593086111Z"
    },
    "colab": {
     "base_uri": "https://localhost:8080/"
    },
    "id": "1a8450d0d15ebc48",
    "outputId": "b227a95a-5f89-4c5b-a1ab-9ced9a0f8c4e"
   },
   "outputs": [
    {
     "name": "stdout",
     "output_type": "stream",
     "text": [
      "775/775 [==============================] - 2s 2ms/step - loss: 0.2287\n"
     ]
    },
    {
     "data": {
      "text/plain": [
       "0.2287379950284958"
      ]
     },
     "execution_count": 27,
     "metadata": {},
     "output_type": "execute_result"
    }
   ],
   "source": [
    "model.evaluate(test_gen, steps=val_steps)"
   ]
  },
  {
   "cell_type": "code",
   "execution_count": 28,
   "id": "Xww1ATy5f303",
   "metadata": {
    "colab": {
     "base_uri": "https://localhost:8080/"
    },
    "id": "Xww1ATy5f303",
    "outputId": "d07badea-dd67-43c4-ecb0-2c3a7c1651ae"
   },
   "outputs": [
    {
     "name": "stdout",
     "output_type": "stream",
     "text": [
      "775/775 [==============================] - 4s 5ms/step - loss: 0.1584\n"
     ]
    },
    {
     "data": {
      "text/plain": [
       "0.15842343866825104"
      ]
     },
     "execution_count": 28,
     "metadata": {},
     "output_type": "execute_result"
    }
   ],
   "source": [
    "model2.evaluate(test_gen, steps=val_steps)"
   ]
  },
  {
   "cell_type": "code",
   "execution_count": 29,
   "id": "qZ9aV_m6f6bI",
   "metadata": {
    "colab": {
     "base_uri": "https://localhost:8080/"
    },
    "id": "qZ9aV_m6f6bI",
    "outputId": "ac7970da-50aa-488d-be99-88373a5407de"
   },
   "outputs": [
    {
     "name": "stdout",
     "output_type": "stream",
     "text": [
      "775/775 [==============================] - 7s 8ms/step - loss: 0.1508\n"
     ]
    },
    {
     "data": {
      "text/plain": [
       "0.1508084237575531"
      ]
     },
     "execution_count": 29,
     "metadata": {},
     "output_type": "execute_result"
    }
   ],
   "source": [
    "model3.evaluate(test_gen, steps=val_steps)"
   ]
  },
  {
   "cell_type": "code",
   "execution_count": 30,
   "id": "BhnMCSwqf7ss",
   "metadata": {
    "colab": {
     "base_uri": "https://localhost:8080/"
    },
    "id": "BhnMCSwqf7ss",
    "outputId": "bd711aa3-d12d-4260-c626-2c7f71d100f1"
   },
   "outputs": [
    {
     "name": "stdout",
     "output_type": "stream",
     "text": [
      "775/775 [==============================] - 16s 21ms/step - loss: 0.2775\n"
     ]
    },
    {
     "data": {
      "text/plain": [
       "0.27746671438217163"
      ]
     },
     "execution_count": 30,
     "metadata": {},
     "output_type": "execute_result"
    }
   ],
   "source": [
    "model4.evaluate(test_gen, steps=val_steps)"
   ]
  },
  {
   "cell_type": "code",
   "execution_count": null,
   "id": "V_nvTLYIgii7",
   "metadata": {
    "id": "V_nvTLYIgii7"
   },
   "outputs": [],
   "source": []
  },
  {
   "cell_type": "code",
   "execution_count": null,
   "id": "bd838596-167e-4922-a121-e69776f06471",
   "metadata": {},
   "outputs": [],
   "source": []
  }
 ],
 "metadata": {
  "accelerator": "GPU",
  "colab": {
   "gpuType": "T4",
   "provenance": []
  },
  "kernelspec": {
   "display_name": "Python 3 (ipykernel)",
   "language": "python",
   "name": "python3"
  },
  "language_info": {
   "codemirror_mode": {
    "name": "ipython",
    "version": 3
   },
   "file_extension": ".py",
   "mimetype": "text/x-python",
   "name": "python",
   "nbconvert_exporter": "python",
   "pygments_lexer": "ipython3",
   "version": "3.8.10"
  }
 },
 "nbformat": 4,
 "nbformat_minor": 5
}
