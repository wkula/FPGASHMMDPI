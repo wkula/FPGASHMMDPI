{
 "cells": [
  {
   "cell_type": "code",
   "execution_count": 1,
   "metadata": {
    "collapsed": true
   },
   "outputs": [
    {
     "name": "stderr",
     "output_type": "stream",
     "text": [
      "2022-12-22 09:55:08.522349: I tensorflow/core/platform/cpu_feature_guard.cc:193] This TensorFlow binary is optimized with oneAPI Deep Neural Network Library (oneDNN) to use the following CPU instructions in performance-critical operations:  AVX2 FMA\n",
      "To enable them in other operations, rebuild TensorFlow with the appropriate compiler flags.\n",
      "2022-12-22 09:55:09.491385: W tensorflow/compiler/xla/stream_executor/platform/default/dso_loader.cc:64] Could not load dynamic library 'libcudart.so.11.0'; dlerror: libcudart.so.11.0: cannot open shared object file: No such file or directory\n",
      "2022-12-22 09:55:09.491426: I tensorflow/compiler/xla/stream_executor/cuda/cudart_stub.cc:29] Ignore above cudart dlerror if you do not have a GPU set up on your machine.\n",
      "2022-12-22 09:55:12.277268: W tensorflow/compiler/xla/stream_executor/platform/default/dso_loader.cc:64] Could not load dynamic library 'libnvinfer.so.7'; dlerror: libnvinfer.so.7: cannot open shared object file: No such file or directory\n",
      "2022-12-22 09:55:12.277379: W tensorflow/compiler/xla/stream_executor/platform/default/dso_loader.cc:64] Could not load dynamic library 'libnvinfer_plugin.so.7'; dlerror: libnvinfer_plugin.so.7: cannot open shared object file: No such file or directory\n",
      "2022-12-22 09:55:12.277389: W tensorflow/compiler/tf2tensorrt/utils/py_utils.cc:38] TF-TRT Warning: Cannot dlopen some TensorRT libraries. If you would like to use Nvidia GPU with TensorRT, please make sure the missing libraries mentioned above are installed properly.\n"
     ]
    }
   ],
   "source": [
    "import tensorflow as tf"
   ]
  },
  {
   "cell_type": "code",
   "execution_count": 2,
   "outputs": [],
   "source": [
    "from read_data import BSData\n",
    "import pandas as pd\n",
    "import numpy as np\n",
    "BAR_C = BSData(\"PWM500_BAR_CENTERED.txt\")\n",
    "BAR_C.read_data()\n",
    "BAR_C_DF = pd.DataFrame(BAR_C.data)"
   ],
   "metadata": {
    "collapsed": false
   }
  },
  {
   "cell_type": "code",
   "execution_count": 3,
   "outputs": [
    {
     "data": {
      "text/plain": "(2695650, 10)"
     },
     "execution_count": 3,
     "metadata": {},
     "output_type": "execute_result"
    }
   ],
   "source": [
    "BAR_C_DF.shape"
   ],
   "metadata": {
    "collapsed": false
   }
  },
  {
   "cell_type": "code",
   "execution_count": 4,
   "outputs": [
    {
     "data": {
      "text/plain": "         Dir        AX        AY        AZ        GX        GY        GZ  \\\n0          0 -0.989471 -0.040162  0.095035  2.067629  0.015259  0.457778   \n1          0 -0.989471 -0.040162  0.095035  2.067629  0.015259  0.457778   \n2          0 -0.989471 -0.040162  0.095035  2.067629  0.015259  0.457778   \n3          0 -0.989471 -0.040162  0.095035  2.067629  0.015259  0.457778   \n4          0 -0.989471 -0.040162  0.095035  2.067629  0.015259  0.457778   \n...      ...       ...       ...       ...       ...       ...       ...   \n2695645    0 -1.017609  0.046083  0.117496 -0.320444  0.671407  0.663778   \n2695646    0 -1.017609  0.046083  0.117496 -0.320444  0.671407  0.663778   \n2695647    0 -1.017609  0.046083  0.117496 -0.320444  0.671407  0.663778   \n2695648    0 -1.017609  0.046083  0.117496 -0.320444  0.671407  0.663778   \n2695649    0 -1.017609  0.046083  0.117496 -0.320444  0.671407  0.663778   \n\n          Current  TimeDiff  \n0        1.861890      0.00  \n1        1.847388      1.26  \n2        1.849805      1.01  \n3        1.853027      1.03  \n4        1.849805      1.01  \n...           ...       ...  \n2695645  1.858667      1.25  \n2695646  1.870752      1.25  \n2695647  1.861084      1.25  \n2695648  1.863501      1.25  \n2695649  1.858667      1.00  \n\n[2695650 rows x 9 columns]",
      "text/html": "<div>\n<style scoped>\n    .dataframe tbody tr th:only-of-type {\n        vertical-align: middle;\n    }\n\n    .dataframe tbody tr th {\n        vertical-align: top;\n    }\n\n    .dataframe thead th {\n        text-align: right;\n    }\n</style>\n<table border=\"1\" class=\"dataframe\">\n  <thead>\n    <tr style=\"text-align: right;\">\n      <th></th>\n      <th>Dir</th>\n      <th>AX</th>\n      <th>AY</th>\n      <th>AZ</th>\n      <th>GX</th>\n      <th>GY</th>\n      <th>GZ</th>\n      <th>Current</th>\n      <th>TimeDiff</th>\n    </tr>\n  </thead>\n  <tbody>\n    <tr>\n      <th>0</th>\n      <td>0</td>\n      <td>-0.989471</td>\n      <td>-0.040162</td>\n      <td>0.095035</td>\n      <td>2.067629</td>\n      <td>0.015259</td>\n      <td>0.457778</td>\n      <td>1.861890</td>\n      <td>0.00</td>\n    </tr>\n    <tr>\n      <th>1</th>\n      <td>0</td>\n      <td>-0.989471</td>\n      <td>-0.040162</td>\n      <td>0.095035</td>\n      <td>2.067629</td>\n      <td>0.015259</td>\n      <td>0.457778</td>\n      <td>1.847388</td>\n      <td>1.26</td>\n    </tr>\n    <tr>\n      <th>2</th>\n      <td>0</td>\n      <td>-0.989471</td>\n      <td>-0.040162</td>\n      <td>0.095035</td>\n      <td>2.067629</td>\n      <td>0.015259</td>\n      <td>0.457778</td>\n      <td>1.849805</td>\n      <td>1.01</td>\n    </tr>\n    <tr>\n      <th>3</th>\n      <td>0</td>\n      <td>-0.989471</td>\n      <td>-0.040162</td>\n      <td>0.095035</td>\n      <td>2.067629</td>\n      <td>0.015259</td>\n      <td>0.457778</td>\n      <td>1.853027</td>\n      <td>1.03</td>\n    </tr>\n    <tr>\n      <th>4</th>\n      <td>0</td>\n      <td>-0.989471</td>\n      <td>-0.040162</td>\n      <td>0.095035</td>\n      <td>2.067629</td>\n      <td>0.015259</td>\n      <td>0.457778</td>\n      <td>1.849805</td>\n      <td>1.01</td>\n    </tr>\n    <tr>\n      <th>...</th>\n      <td>...</td>\n      <td>...</td>\n      <td>...</td>\n      <td>...</td>\n      <td>...</td>\n      <td>...</td>\n      <td>...</td>\n      <td>...</td>\n      <td>...</td>\n    </tr>\n    <tr>\n      <th>2695645</th>\n      <td>0</td>\n      <td>-1.017609</td>\n      <td>0.046083</td>\n      <td>0.117496</td>\n      <td>-0.320444</td>\n      <td>0.671407</td>\n      <td>0.663778</td>\n      <td>1.858667</td>\n      <td>1.25</td>\n    </tr>\n    <tr>\n      <th>2695646</th>\n      <td>0</td>\n      <td>-1.017609</td>\n      <td>0.046083</td>\n      <td>0.117496</td>\n      <td>-0.320444</td>\n      <td>0.671407</td>\n      <td>0.663778</td>\n      <td>1.870752</td>\n      <td>1.25</td>\n    </tr>\n    <tr>\n      <th>2695647</th>\n      <td>0</td>\n      <td>-1.017609</td>\n      <td>0.046083</td>\n      <td>0.117496</td>\n      <td>-0.320444</td>\n      <td>0.671407</td>\n      <td>0.663778</td>\n      <td>1.861084</td>\n      <td>1.25</td>\n    </tr>\n    <tr>\n      <th>2695648</th>\n      <td>0</td>\n      <td>-1.017609</td>\n      <td>0.046083</td>\n      <td>0.117496</td>\n      <td>-0.320444</td>\n      <td>0.671407</td>\n      <td>0.663778</td>\n      <td>1.863501</td>\n      <td>1.25</td>\n    </tr>\n    <tr>\n      <th>2695649</th>\n      <td>0</td>\n      <td>-1.017609</td>\n      <td>0.046083</td>\n      <td>0.117496</td>\n      <td>-0.320444</td>\n      <td>0.671407</td>\n      <td>0.663778</td>\n      <td>1.858667</td>\n      <td>1.00</td>\n    </tr>\n  </tbody>\n</table>\n<p>2695650 rows × 9 columns</p>\n</div>"
     },
     "execution_count": 4,
     "metadata": {},
     "output_type": "execute_result"
    }
   ],
   "source": [
    "BAR_C_DF.drop('Time', axis=1, inplace=True)"
   ],
   "metadata": {
    "collapsed": false
   }
  },
  {
   "cell_type": "code",
   "execution_count": 5,
   "outputs": [],
   "source": [
    "BAR_C_Y = np.ones(BAR_C_DF.shape[0])"
   ],
   "metadata": {
    "collapsed": false
   }
  },
  {
   "cell_type": "code",
   "execution_count": 10,
   "outputs": [
    {
     "name": "stdout",
     "output_type": "stream",
     "text": [
      "Model: \"model_1\"\n",
      "_________________________________________________________________\n",
      " Layer (type)                Output Shape              Param #   \n",
      "=================================================================\n",
      " input_2 (InputLayer)        [(None, 10)]              0         \n",
      "                                                                 \n",
      " flatten_1 (Flatten)         (None, 10)                0         \n",
      "                                                                 \n",
      " dense_7 (Dense)             (None, 1024)              11264     \n",
      "                                                                 \n",
      " dropout_5 (Dropout)         (None, 1024)              0         \n",
      "                                                                 \n",
      " dense_8 (Dense)             (None, 1024)              1049600   \n",
      "                                                                 \n",
      " dropout_6 (Dropout)         (None, 1024)              0         \n",
      "                                                                 \n",
      " dense_9 (Dense)             (None, 1024)              1049600   \n",
      "                                                                 \n",
      " dropout_7 (Dropout)         (None, 1024)              0         \n",
      "                                                                 \n",
      " dense_10 (Dense)            (None, 1024)              1049600   \n",
      "                                                                 \n",
      " dense_11 (Dense)            (None, 32)                32800     \n",
      "                                                                 \n",
      " dropout_8 (Dropout)         (None, 32)                0         \n",
      "                                                                 \n",
      " dense_12 (Dense)            (None, 8)                 264       \n",
      "                                                                 \n",
      " dropout_9 (Dropout)         (None, 8)                 0         \n",
      "                                                                 \n",
      " dense_13 (Dense)            (None, 1)                 9         \n",
      "                                                                 \n",
      "=================================================================\n",
      "Total params: 3,193,137\n",
      "Trainable params: 3,193,137\n",
      "Non-trainable params: 0\n",
      "_________________________________________________________________\n"
     ]
    }
   ],
   "source": [
    "input = tf.keras.Input(shape=(9))\n",
    "# x = tf.keras.layers.Flatten()(input)\n",
    "x = tf.keras.layers.Dense(1024, activation='relu')(input)\n",
    "x = tf.keras.layers.Dropout(0.2)(x)\n",
    "x = tf.keras.layers.Dense(1024, activation='relu')(x)\n",
    "x = tf.keras.layers.Dropout(0.2)(x)\n",
    "x = tf.keras.layers.Dense(1024, activation='relu')(x)\n",
    "x = tf.keras.layers.Dropout(0.2)(x)\n",
    "x = tf.keras.layers.Dense(1024, activation='relu')(x)\n",
    "x = tf.keras.layers.Dense(32, activation='relu')(x)\n",
    "x = tf.keras.layers.Dropout(0.2)(x)\n",
    "x = tf.keras.layers.Dense(8, activation='relu')(x)\n",
    "x = tf.keras.layers.Dropout(0.2)(x)\n",
    "x = tf.keras.layers.Dense(1, activation='relu')(x)\n",
    "\n",
    "model = tf.keras.Model(input, x)\n",
    "model.summary()"
   ],
   "metadata": {
    "collapsed": false
   }
  },
  {
   "cell_type": "code",
   "execution_count": 11,
   "outputs": [],
   "source": [
    "from tensorflow_addons.metrics import F1Score\n",
    "model.compile(optimizer='adam', loss=tf.losses.binary_crossentropy, metrics=['accuracy', F1Score(1)])"
   ],
   "metadata": {
    "collapsed": false
   }
  },
  {
   "cell_type": "code",
   "execution_count": 12,
   "outputs": [],
   "source": [
    "checkpoint_filepath = './tmp/checkpoint'\n",
    "model_checkpoint_callback = tf.keras.callbacks.ModelCheckpoint(\n",
    "    filepath=checkpoint_filepath,\n",
    "    save_weights_only=True,\n",
    "    monitor='val_f1_score',\n",
    "    mode='max',\n",
    "    save_best_only=True\n",
    ")"
   ],
   "metadata": {
    "collapsed": false
   }
  },
  {
   "cell_type": "code",
   "execution_count": 13,
   "outputs": [
    {
     "name": "stdout",
     "output_type": "stream",
     "text": [
      "WARNING:tensorflow:From /home/wkula/PycharmProjects/Pomiary artykuł /venv/lib/python3.9/site-packages/tensorflow/python/autograph/pyct/static_analysis/liveness.py:83: Analyzer.lamba_check (from tensorflow.python.autograph.pyct.static_analysis.liveness) is deprecated and will be removed after 2023-09-23.\n",
      "Instructions for updating:\n",
      "Lambda fuctions will be no more assumed to be used in the statement where they are used, or at least in the same block. https://github.com/tensorflow/tensorflow/issues/56089\n",
      "2633/2633 [==============================] - 354s 134ms/step - loss: 0.1456 - accuracy: 0.9841 - f1_score: 0.9957 - val_loss: 0.0000e+00 - val_accuracy: 1.0000 - val_f1_score: 1.0000\n"
     ]
    },
    {
     "data": {
      "text/plain": "<keras.callbacks.History at 0x7f7f0c4dc400>"
     },
     "execution_count": 13,
     "metadata": {},
     "output_type": "execute_result"
    }
   ],
   "source": [
    "model.fit(BAR_C_DF, BAR_C_Y, validation_data=(BAR_C_DF, BAR_C_Y), epochs=1, batch_size=1024, callbacks=[model_checkpoint_callback])"
   ],
   "metadata": {
    "collapsed": false
   }
  },
  {
   "cell_type": "code",
   "execution_count": null,
   "outputs": [],
   "source": [],
   "metadata": {
    "collapsed": false
   }
  }
 ],
 "metadata": {
  "kernelspec": {
   "display_name": "Python 3",
   "language": "python",
   "name": "python3"
  },
  "language_info": {
   "codemirror_mode": {
    "name": "ipython",
    "version": 2
   },
   "file_extension": ".py",
   "mimetype": "text/x-python",
   "name": "python",
   "nbconvert_exporter": "python",
   "pygments_lexer": "ipython2",
   "version": "2.7.6"
  }
 },
 "nbformat": 4,
 "nbformat_minor": 0
}
